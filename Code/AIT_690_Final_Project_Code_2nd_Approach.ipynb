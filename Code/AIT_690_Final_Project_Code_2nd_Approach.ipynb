{
  "nbformat": 4,
  "nbformat_minor": 0,
  "metadata": {
    "colab": {
      "name": "AIT 690 Notebook.ipynb",
      "provenance": [],
      "collapsed_sections": [],
      "machine_shape": "hm"
    },
    "kernelspec": {
      "name": "python3",
      "display_name": "Python 3"
    },
    "accelerator": "GPU"
  },
  "cells": [
    {
      "cell_type": "markdown",
      "metadata": {
        "id": "29gGrNyypkxr"
      },
      "source": [
        "*** AIT 690 Smart Cities and Urban Computing ***\n",
        "\n",
        "*** Final Project By Japneet S. Kohli ***\n",
        "\n",
        "This file contains the code for the 2nd approach using Gaussian Mixture Models (GMM).\n",
        "\n",
        "The code is exeuted in the following order:\n",
        "\n",
        "1.  Import required libraries and packages\n",
        "2.  Mount Google Drive. Google Colab was used as the platform to run this code.\n",
        "3.  Load NY Crime Complaint Data.\n",
        "\n",
        "*** Data Cleaning ***\n",
        "\n",
        "4.  Drop unnecessary columns from dataset and rename columns.\n",
        "5.  Convert categorical column \"Law Code\" into dummies for each category and add to dataset. \n",
        "6.  Merge complain date and time columns into one datetime column and assign it as index. In this step, records outside 2019 year are assigned \"None\" value so they will be removed in the next step.\n",
        "7.  Remove non-date values from the dataframe. This eliminates all bad dates and dates outside 2019.\n",
        "\n",
        "*** Data Exploration ***\n",
        "\n",
        "8.  Analyze the Law Code Categories for 2019 for annual frequency of crime.\n",
        "9.  Analyze the Law Code Categories for 2019 for monthly frequency of crime.\n",
        "10. Analyze the Law Code Categories for 2019 for day-wise frequency of crime.\n",
        "11. Analyze the Law Code Categories for 2019 for hour-wise frequency of crime.\n",
        "12. Create subset of data with only 4 types of categories, namely i. sex crimes; ii. murder and non-negligent manslaughter crimes; iii. robbery crimes; iv. dangerous drugs crimes.\n",
        "13. Add columns for above 4 categories using dummy values.\n",
        "14. Analyze all 4 categories based on hour-of-day frequencies to notice interesting patterns.\n",
        "15. Analyze drugs related crime data to find proportion of marijuana and sale related crimes respectively.\n",
        "16. Plot the types of crimes based on Offense Descriptions and annual frequency to visualize commonness of various types of crimes.\n",
        "17. Create dataframes containing data for the interesting patterns observed thus far.\n",
        "\n",
        "*** Implementing Gaussian Mixture Models ***\n",
        "\n",
        "18. Define function to extract latitude/longitude coordinate data from interesting pattern dataframes.\n",
        "19. Define function to analyze coord data extracted above using GMMs iterated over varying number of components and plot aic/bic curve for all models belonging to 1 dataframe. \n",
        "20. Define function to draw ellipse with given position and covariance.\n",
        "21. Define function to plot a GMM with clusters shown within ellipses.\n",
        "22. Run the above functions over the interesting pattern dataframes and select best models based on evaluation of aic/bic.\n",
        "23. Export the interesting pattern dataframes' coordinates and cluster prediction values for best models selected to visualize them in ArcMap.\n",
        "\n",
        "*** End ***\n"
      ]
    },
    {
      "cell_type": "code",
      "metadata": {
        "id": "i9kmGiVfQwvb"
      },
      "source": [
        "import pandas as pd\n",
        "import numpy as np\n",
        "import seaborn as sns; sns.set()\n",
        "import matplotlib.pyplot as plt\n",
        "%matplotlib inline\n",
        "from sklearn import mixture\n",
        "from matplotlib.patches import Ellipse\n"
      ],
      "execution_count": 2,
      "outputs": []
    },
    {
      "cell_type": "markdown",
      "metadata": {
        "id": "26XjNQY4RT5C"
      },
      "source": [
        "To use Google Colab, a Google Drive must be mounted. This is done in below code."
      ]
    },
    {
      "cell_type": "code",
      "metadata": {
        "colab": {
          "base_uri": "https://localhost:8080/"
        },
        "id": "jqeGRCdQRRHN",
        "outputId": "957e23f6-0b98-486b-b899-014fe55a5c2b"
      },
      "source": [
        "#Mount drive\n",
        "from google.colab import drive\n",
        "drive.mount('/content/gdrive')"
      ],
      "execution_count": 3,
      "outputs": [
        {
          "output_type": "stream",
          "text": [
            "Mounted at /content/gdrive\n"
          ],
          "name": "stdout"
        }
      ]
    },
    {
      "cell_type": "code",
      "metadata": {
        "id": "M96Ui89fRRJ7"
      },
      "source": [
        "# Load data\n",
        "complaint_data = pd.read_csv(\"NYPD_Complaint_Map__Year_to_Date_.csv\")\n"
      ],
      "execution_count": 4,
      "outputs": []
    },
    {
      "cell_type": "code",
      "metadata": {
        "colab": {
          "base_uri": "https://localhost:8080/",
          "height": 394
        },
        "id": "gQaILu0VfG-R",
        "outputId": "d3f190b1-52d7-404e-f9ae-1494a61ab5d8"
      },
      "source": [
        "complaint_data.head()"
      ],
      "execution_count": 5,
      "outputs": [
        {
          "output_type": "execute_result",
          "data": {
            "text/html": [
              "<div>\n",
              "<style scoped>\n",
              "    .dataframe tbody tr th:only-of-type {\n",
              "        vertical-align: middle;\n",
              "    }\n",
              "\n",
              "    .dataframe tbody tr th {\n",
              "        vertical-align: top;\n",
              "    }\n",
              "\n",
              "    .dataframe thead th {\n",
              "        text-align: right;\n",
              "    }\n",
              "</style>\n",
              "<table border=\"1\" class=\"dataframe\">\n",
              "  <thead>\n",
              "    <tr style=\"text-align: right;\">\n",
              "      <th></th>\n",
              "      <th>CMPLNT_NUM</th>\n",
              "      <th>ADDR_PCT_CD</th>\n",
              "      <th>BORO_NM</th>\n",
              "      <th>CMPLNT_FR_DT</th>\n",
              "      <th>CMPLNT_FR_TM</th>\n",
              "      <th>CMPLNT_TO_DT</th>\n",
              "      <th>CMPLNT_TO_TM</th>\n",
              "      <th>CRM_ATPT_CPTD_CD</th>\n",
              "      <th>HADEVELOPT</th>\n",
              "      <th>JURIS_DESC</th>\n",
              "      <th>KY_CD</th>\n",
              "      <th>LAW_CAT_CD</th>\n",
              "      <th>LOC_OF_OCCUR_DESC</th>\n",
              "      <th>OFNS_DESC</th>\n",
              "      <th>PARKS_NM</th>\n",
              "      <th>PD_CD</th>\n",
              "      <th>PD_DESC</th>\n",
              "      <th>PREM_TYP_DESC</th>\n",
              "      <th>RPT_DT</th>\n",
              "      <th>Lat_Lon</th>\n",
              "      <th>X_COORD_CD</th>\n",
              "      <th>Y_COORD_CD</th>\n",
              "      <th>Latitude</th>\n",
              "      <th>Longitude</th>\n",
              "    </tr>\n",
              "  </thead>\n",
              "  <tbody>\n",
              "    <tr>\n",
              "      <th>0</th>\n",
              "      <td>314773184</td>\n",
              "      <td>48</td>\n",
              "      <td>BRONX</td>\n",
              "      <td>12/31/2019</td>\n",
              "      <td>18:00:00</td>\n",
              "      <td>NaN</td>\n",
              "      <td>NaN</td>\n",
              "      <td>COMPLETED</td>\n",
              "      <td>NaN</td>\n",
              "      <td>N.Y. POLICE DEPT</td>\n",
              "      <td>105</td>\n",
              "      <td>FELONY</td>\n",
              "      <td>NaN</td>\n",
              "      <td>ROBBERY</td>\n",
              "      <td>NaN</td>\n",
              "      <td>386.0</td>\n",
              "      <td>ROBBERY,PERSONAL ELECTRONIC DEVICE</td>\n",
              "      <td>STREET</td>\n",
              "      <td>12/31/2019</td>\n",
              "      <td>POINT (-73.88168118799997 40.838026269000075)</td>\n",
              "      <td>1016990</td>\n",
              "      <td>244612</td>\n",
              "      <td>40.838026</td>\n",
              "      <td>-73.881681</td>\n",
              "    </tr>\n",
              "    <tr>\n",
              "      <th>1</th>\n",
              "      <td>289837961</td>\n",
              "      <td>25</td>\n",
              "      <td>MANHATTAN</td>\n",
              "      <td>12/30/2019</td>\n",
              "      <td>20:30:00</td>\n",
              "      <td>12/31/2019</td>\n",
              "      <td>10:00:00</td>\n",
              "      <td>COMPLETED</td>\n",
              "      <td>NaN</td>\n",
              "      <td>N.Y. POLICE DEPT</td>\n",
              "      <td>341</td>\n",
              "      <td>MISDEMEANOR</td>\n",
              "      <td>INSIDE</td>\n",
              "      <td>PETIT LARCENY</td>\n",
              "      <td>NaN</td>\n",
              "      <td>338.0</td>\n",
              "      <td>LARCENY,PETIT FROM BUILDING,UN</td>\n",
              "      <td>RESIDENCE - APT. HOUSE</td>\n",
              "      <td>12/31/2019</td>\n",
              "      <td>POINT (-73.94565697199994 40.800334261000046)</td>\n",
              "      <td>999296</td>\n",
              "      <td>230862</td>\n",
              "      <td>40.800334</td>\n",
              "      <td>-73.945657</td>\n",
              "    </tr>\n",
              "    <tr>\n",
              "      <th>2</th>\n",
              "      <td>535744284</td>\n",
              "      <td>77</td>\n",
              "      <td>BROOKLYN</td>\n",
              "      <td>12/24/2019</td>\n",
              "      <td>16:55:00</td>\n",
              "      <td>12/24/2019</td>\n",
              "      <td>17:00:00</td>\n",
              "      <td>COMPLETED</td>\n",
              "      <td>NaN</td>\n",
              "      <td>N.Y. POLICE DEPT</td>\n",
              "      <td>106</td>\n",
              "      <td>FELONY</td>\n",
              "      <td>NaN</td>\n",
              "      <td>FELONY ASSAULT</td>\n",
              "      <td>NaN</td>\n",
              "      <td>109.0</td>\n",
              "      <td>ASSAULT 2,1,UNCLASSIFIED</td>\n",
              "      <td>STREET</td>\n",
              "      <td>12/31/2019</td>\n",
              "      <td>POINT (-73.93937555099996 40.66983179600004)</td>\n",
              "      <td>1001068</td>\n",
              "      <td>183317</td>\n",
              "      <td>40.669832</td>\n",
              "      <td>-73.939376</td>\n",
              "    </tr>\n",
              "    <tr>\n",
              "      <th>3</th>\n",
              "      <td>895678119</td>\n",
              "      <td>52</td>\n",
              "      <td>BRONX</td>\n",
              "      <td>12/30/2019</td>\n",
              "      <td>19:32:00</td>\n",
              "      <td>NaN</td>\n",
              "      <td>NaN</td>\n",
              "      <td>COMPLETED</td>\n",
              "      <td>NaN</td>\n",
              "      <td>N.Y. POLICE DEPT</td>\n",
              "      <td>341</td>\n",
              "      <td>MISDEMEANOR</td>\n",
              "      <td>INSIDE</td>\n",
              "      <td>PETIT LARCENY</td>\n",
              "      <td>NaN</td>\n",
              "      <td>333.0</td>\n",
              "      <td>LARCENY,PETIT FROM STORE-SHOPL</td>\n",
              "      <td>CHAIN STORE</td>\n",
              "      <td>12/30/2019</td>\n",
              "      <td>POINT (-73.90801364899994 40.87367103500002)</td>\n",
              "      <td>1009690</td>\n",
              "      <td>257590</td>\n",
              "      <td>40.873671</td>\n",
              "      <td>-73.908014</td>\n",
              "    </tr>\n",
              "    <tr>\n",
              "      <th>4</th>\n",
              "      <td>299841674</td>\n",
              "      <td>18</td>\n",
              "      <td>MANHATTAN</td>\n",
              "      <td>12/30/2019</td>\n",
              "      <td>15:30:00</td>\n",
              "      <td>12/30/2019</td>\n",
              "      <td>16:50:00</td>\n",
              "      <td>COMPLETED</td>\n",
              "      <td>NaN</td>\n",
              "      <td>N.Y. POLICE DEPT</td>\n",
              "      <td>341</td>\n",
              "      <td>MISDEMEANOR</td>\n",
              "      <td>NaN</td>\n",
              "      <td>PETIT LARCENY</td>\n",
              "      <td>NaN</td>\n",
              "      <td>301.0</td>\n",
              "      <td>LARCENY,PETIT BY ACQUIRING LOS</td>\n",
              "      <td>STREET</td>\n",
              "      <td>12/30/2019</td>\n",
              "      <td>POINT (-73.99452906599998 40.76093528000007)</td>\n",
              "      <td>985766</td>\n",
              "      <td>216503</td>\n",
              "      <td>40.760935</td>\n",
              "      <td>-73.994529</td>\n",
              "    </tr>\n",
              "  </tbody>\n",
              "</table>\n",
              "</div>"
            ],
            "text/plain": [
              "   CMPLNT_NUM  ADDR_PCT_CD    BORO_NM  ... Y_COORD_CD   Latitude  Longitude\n",
              "0   314773184           48      BRONX  ...     244612  40.838026 -73.881681\n",
              "1   289837961           25  MANHATTAN  ...     230862  40.800334 -73.945657\n",
              "2   535744284           77   BROOKLYN  ...     183317  40.669832 -73.939376\n",
              "3   895678119           52      BRONX  ...     257590  40.873671 -73.908014\n",
              "4   299841674           18  MANHATTAN  ...     216503  40.760935 -73.994529\n",
              "\n",
              "[5 rows x 24 columns]"
            ]
          },
          "metadata": {
            "tags": []
          },
          "execution_count": 5
        }
      ]
    },
    {
      "cell_type": "code",
      "metadata": {
        "colab": {
          "base_uri": "https://localhost:8080/",
          "height": 204
        },
        "id": "N2GhHRhI_eHC",
        "outputId": "7a5b5063-c6ce-487c-9bef-265210931004"
      },
      "source": [
        "# Drop columns from crime complaint dataset and rename columns\n",
        "\n",
        "df = complaint_data.copy()\n",
        "#df = df.loc[1:10000]\n",
        "df.drop(['JURIS_DESC', 'ADDR_PCT_CD', 'PARKS_NM', 'HADEVELOPT', 'X_COORD_CD', 'Y_COORD_CD', \n",
        "              'Lat_Lon', 'LOC_OF_OCCUR_DESC', \n",
        "              'KY_CD', 'PD_CD', 'PD_CD'], axis=1, inplace=True) \n",
        "df.columns\n",
        "df.columns = ['CMPLT_NUM', 'BORO_NM', 'CMPLNT_FR_DT','CMPLNT_FR_TM', 'CMPLNT_TO_DT',\n",
        "              'CMPLNT_TO_TM', 'CRM_STTUS', 'LAW_CODE', 'OFNS_DESC', \n",
        "              'PD_DESC', 'PREM_TYP_DESC', 'RPT_DT', 'LATITUDE', 'LONGITUDE']\n",
        "df.head()"
      ],
      "execution_count": 6,
      "outputs": [
        {
          "output_type": "execute_result",
          "data": {
            "text/html": [
              "<div>\n",
              "<style scoped>\n",
              "    .dataframe tbody tr th:only-of-type {\n",
              "        vertical-align: middle;\n",
              "    }\n",
              "\n",
              "    .dataframe tbody tr th {\n",
              "        vertical-align: top;\n",
              "    }\n",
              "\n",
              "    .dataframe thead th {\n",
              "        text-align: right;\n",
              "    }\n",
              "</style>\n",
              "<table border=\"1\" class=\"dataframe\">\n",
              "  <thead>\n",
              "    <tr style=\"text-align: right;\">\n",
              "      <th></th>\n",
              "      <th>CMPLT_NUM</th>\n",
              "      <th>BORO_NM</th>\n",
              "      <th>CMPLNT_FR_DT</th>\n",
              "      <th>CMPLNT_FR_TM</th>\n",
              "      <th>CMPLNT_TO_DT</th>\n",
              "      <th>CMPLNT_TO_TM</th>\n",
              "      <th>CRM_STTUS</th>\n",
              "      <th>LAW_CODE</th>\n",
              "      <th>OFNS_DESC</th>\n",
              "      <th>PD_DESC</th>\n",
              "      <th>PREM_TYP_DESC</th>\n",
              "      <th>RPT_DT</th>\n",
              "      <th>LATITUDE</th>\n",
              "      <th>LONGITUDE</th>\n",
              "    </tr>\n",
              "  </thead>\n",
              "  <tbody>\n",
              "    <tr>\n",
              "      <th>0</th>\n",
              "      <td>314773184</td>\n",
              "      <td>BRONX</td>\n",
              "      <td>12/31/2019</td>\n",
              "      <td>18:00:00</td>\n",
              "      <td>NaN</td>\n",
              "      <td>NaN</td>\n",
              "      <td>COMPLETED</td>\n",
              "      <td>FELONY</td>\n",
              "      <td>ROBBERY</td>\n",
              "      <td>ROBBERY,PERSONAL ELECTRONIC DEVICE</td>\n",
              "      <td>STREET</td>\n",
              "      <td>12/31/2019</td>\n",
              "      <td>40.838026</td>\n",
              "      <td>-73.881681</td>\n",
              "    </tr>\n",
              "    <tr>\n",
              "      <th>1</th>\n",
              "      <td>289837961</td>\n",
              "      <td>MANHATTAN</td>\n",
              "      <td>12/30/2019</td>\n",
              "      <td>20:30:00</td>\n",
              "      <td>12/31/2019</td>\n",
              "      <td>10:00:00</td>\n",
              "      <td>COMPLETED</td>\n",
              "      <td>MISDEMEANOR</td>\n",
              "      <td>PETIT LARCENY</td>\n",
              "      <td>LARCENY,PETIT FROM BUILDING,UN</td>\n",
              "      <td>RESIDENCE - APT. HOUSE</td>\n",
              "      <td>12/31/2019</td>\n",
              "      <td>40.800334</td>\n",
              "      <td>-73.945657</td>\n",
              "    </tr>\n",
              "    <tr>\n",
              "      <th>2</th>\n",
              "      <td>535744284</td>\n",
              "      <td>BROOKLYN</td>\n",
              "      <td>12/24/2019</td>\n",
              "      <td>16:55:00</td>\n",
              "      <td>12/24/2019</td>\n",
              "      <td>17:00:00</td>\n",
              "      <td>COMPLETED</td>\n",
              "      <td>FELONY</td>\n",
              "      <td>FELONY ASSAULT</td>\n",
              "      <td>ASSAULT 2,1,UNCLASSIFIED</td>\n",
              "      <td>STREET</td>\n",
              "      <td>12/31/2019</td>\n",
              "      <td>40.669832</td>\n",
              "      <td>-73.939376</td>\n",
              "    </tr>\n",
              "    <tr>\n",
              "      <th>3</th>\n",
              "      <td>895678119</td>\n",
              "      <td>BRONX</td>\n",
              "      <td>12/30/2019</td>\n",
              "      <td>19:32:00</td>\n",
              "      <td>NaN</td>\n",
              "      <td>NaN</td>\n",
              "      <td>COMPLETED</td>\n",
              "      <td>MISDEMEANOR</td>\n",
              "      <td>PETIT LARCENY</td>\n",
              "      <td>LARCENY,PETIT FROM STORE-SHOPL</td>\n",
              "      <td>CHAIN STORE</td>\n",
              "      <td>12/30/2019</td>\n",
              "      <td>40.873671</td>\n",
              "      <td>-73.908014</td>\n",
              "    </tr>\n",
              "    <tr>\n",
              "      <th>4</th>\n",
              "      <td>299841674</td>\n",
              "      <td>MANHATTAN</td>\n",
              "      <td>12/30/2019</td>\n",
              "      <td>15:30:00</td>\n",
              "      <td>12/30/2019</td>\n",
              "      <td>16:50:00</td>\n",
              "      <td>COMPLETED</td>\n",
              "      <td>MISDEMEANOR</td>\n",
              "      <td>PETIT LARCENY</td>\n",
              "      <td>LARCENY,PETIT BY ACQUIRING LOS</td>\n",
              "      <td>STREET</td>\n",
              "      <td>12/30/2019</td>\n",
              "      <td>40.760935</td>\n",
              "      <td>-73.994529</td>\n",
              "    </tr>\n",
              "  </tbody>\n",
              "</table>\n",
              "</div>"
            ],
            "text/plain": [
              "   CMPLT_NUM    BORO_NM CMPLNT_FR_DT  ...      RPT_DT   LATITUDE  LONGITUDE\n",
              "0  314773184      BRONX   12/31/2019  ...  12/31/2019  40.838026 -73.881681\n",
              "1  289837961  MANHATTAN   12/30/2019  ...  12/31/2019  40.800334 -73.945657\n",
              "2  535744284   BROOKLYN   12/24/2019  ...  12/31/2019  40.669832 -73.939376\n",
              "3  895678119      BRONX   12/30/2019  ...  12/30/2019  40.873671 -73.908014\n",
              "4  299841674  MANHATTAN   12/30/2019  ...  12/30/2019  40.760935 -73.994529\n",
              "\n",
              "[5 rows x 14 columns]"
            ]
          },
          "metadata": {
            "tags": []
          },
          "execution_count": 6
        }
      ]
    },
    {
      "cell_type": "code",
      "metadata": {
        "colab": {
          "base_uri": "https://localhost:8080/",
          "height": 340
        },
        "id": "ZtnmFJnS_eJq",
        "outputId": "de3b3b78-ec4c-469e-ef27-f2d48841fa2a"
      },
      "source": [
        "# Merge date and time columns into one datetime column and assign it as the index. The complaint from date and time are used for this purpose.\n",
        "# Also create columns for each category of law code (violations, felonies, and midemeanors).\n",
        "\n",
        "df2 = df.copy()\n",
        "# define function to keep only 2019 data\n",
        "def date_change(x):\n",
        "    if x[2] > '2019':\n",
        "        x = None\n",
        "    elif x[2] < '2019':\n",
        "        x = None\n",
        "    else:\n",
        "        aa= '/'.join(x)\n",
        "        return (aa)\n",
        "\n",
        "# get columns for law code\n",
        "df2 = df2.join(df2['LAW_CODE'].str.get_dummies()) # law codes are violations, felonies and misdemeanors\n",
        "\n",
        "# process complaint date and time columns \n",
        "df2.dropna(subset=['CMPLNT_FR_DT'], inplace=True) # drop empty dates\n",
        "df2['CMPLNT_FR_DT'] = df2['CMPLNT_FR_DT'].str.split(\"/\") # create a list for each value so year element can be examined\n",
        "df2['CMPLNT_FR_DT'] = df2['CMPLNT_FR_DT'].apply(lambda x: date_change(x)) # examine date years\n",
        "\n",
        "df2['Date_OCCRD'] = df2['CMPLNT_FR_DT'] +' '+df2['CMPLNT_FR_TM'] # create one column for both date and time columns combined\n",
        "df2['Date_OCCRD'] = pd.to_datetime(df2['Date_OCCRD']) # convert to datetime format\n",
        "df2['Date_OCCRD2'] = df2['Date_OCCRD']\n",
        "df2.set_index('Date_OCCRD', inplace=True) # set above datetime column as index\n",
        "\n",
        "df2.head()"
      ],
      "execution_count": 7,
      "outputs": [
        {
          "output_type": "execute_result",
          "data": {
            "text/html": [
              "<div>\n",
              "<style scoped>\n",
              "    .dataframe tbody tr th:only-of-type {\n",
              "        vertical-align: middle;\n",
              "    }\n",
              "\n",
              "    .dataframe tbody tr th {\n",
              "        vertical-align: top;\n",
              "    }\n",
              "\n",
              "    .dataframe thead th {\n",
              "        text-align: right;\n",
              "    }\n",
              "</style>\n",
              "<table border=\"1\" class=\"dataframe\">\n",
              "  <thead>\n",
              "    <tr style=\"text-align: right;\">\n",
              "      <th></th>\n",
              "      <th>CMPLT_NUM</th>\n",
              "      <th>BORO_NM</th>\n",
              "      <th>CMPLNT_FR_DT</th>\n",
              "      <th>CMPLNT_FR_TM</th>\n",
              "      <th>CMPLNT_TO_DT</th>\n",
              "      <th>CMPLNT_TO_TM</th>\n",
              "      <th>CRM_STTUS</th>\n",
              "      <th>LAW_CODE</th>\n",
              "      <th>OFNS_DESC</th>\n",
              "      <th>PD_DESC</th>\n",
              "      <th>PREM_TYP_DESC</th>\n",
              "      <th>RPT_DT</th>\n",
              "      <th>LATITUDE</th>\n",
              "      <th>LONGITUDE</th>\n",
              "      <th>FELONY</th>\n",
              "      <th>MISDEMEANOR</th>\n",
              "      <th>VIOLATION</th>\n",
              "      <th>Date_OCCRD2</th>\n",
              "    </tr>\n",
              "    <tr>\n",
              "      <th>Date_OCCRD</th>\n",
              "      <th></th>\n",
              "      <th></th>\n",
              "      <th></th>\n",
              "      <th></th>\n",
              "      <th></th>\n",
              "      <th></th>\n",
              "      <th></th>\n",
              "      <th></th>\n",
              "      <th></th>\n",
              "      <th></th>\n",
              "      <th></th>\n",
              "      <th></th>\n",
              "      <th></th>\n",
              "      <th></th>\n",
              "      <th></th>\n",
              "      <th></th>\n",
              "      <th></th>\n",
              "      <th></th>\n",
              "    </tr>\n",
              "  </thead>\n",
              "  <tbody>\n",
              "    <tr>\n",
              "      <th>2019-12-31 18:00:00</th>\n",
              "      <td>314773184</td>\n",
              "      <td>BRONX</td>\n",
              "      <td>12/31/2019</td>\n",
              "      <td>18:00:00</td>\n",
              "      <td>NaN</td>\n",
              "      <td>NaN</td>\n",
              "      <td>COMPLETED</td>\n",
              "      <td>FELONY</td>\n",
              "      <td>ROBBERY</td>\n",
              "      <td>ROBBERY,PERSONAL ELECTRONIC DEVICE</td>\n",
              "      <td>STREET</td>\n",
              "      <td>12/31/2019</td>\n",
              "      <td>40.838026</td>\n",
              "      <td>-73.881681</td>\n",
              "      <td>1</td>\n",
              "      <td>0</td>\n",
              "      <td>0</td>\n",
              "      <td>2019-12-31 18:00:00</td>\n",
              "    </tr>\n",
              "    <tr>\n",
              "      <th>2019-12-30 20:30:00</th>\n",
              "      <td>289837961</td>\n",
              "      <td>MANHATTAN</td>\n",
              "      <td>12/30/2019</td>\n",
              "      <td>20:30:00</td>\n",
              "      <td>12/31/2019</td>\n",
              "      <td>10:00:00</td>\n",
              "      <td>COMPLETED</td>\n",
              "      <td>MISDEMEANOR</td>\n",
              "      <td>PETIT LARCENY</td>\n",
              "      <td>LARCENY,PETIT FROM BUILDING,UN</td>\n",
              "      <td>RESIDENCE - APT. HOUSE</td>\n",
              "      <td>12/31/2019</td>\n",
              "      <td>40.800334</td>\n",
              "      <td>-73.945657</td>\n",
              "      <td>0</td>\n",
              "      <td>1</td>\n",
              "      <td>0</td>\n",
              "      <td>2019-12-30 20:30:00</td>\n",
              "    </tr>\n",
              "    <tr>\n",
              "      <th>2019-12-24 16:55:00</th>\n",
              "      <td>535744284</td>\n",
              "      <td>BROOKLYN</td>\n",
              "      <td>12/24/2019</td>\n",
              "      <td>16:55:00</td>\n",
              "      <td>12/24/2019</td>\n",
              "      <td>17:00:00</td>\n",
              "      <td>COMPLETED</td>\n",
              "      <td>FELONY</td>\n",
              "      <td>FELONY ASSAULT</td>\n",
              "      <td>ASSAULT 2,1,UNCLASSIFIED</td>\n",
              "      <td>STREET</td>\n",
              "      <td>12/31/2019</td>\n",
              "      <td>40.669832</td>\n",
              "      <td>-73.939376</td>\n",
              "      <td>1</td>\n",
              "      <td>0</td>\n",
              "      <td>0</td>\n",
              "      <td>2019-12-24 16:55:00</td>\n",
              "    </tr>\n",
              "    <tr>\n",
              "      <th>2019-12-30 19:32:00</th>\n",
              "      <td>895678119</td>\n",
              "      <td>BRONX</td>\n",
              "      <td>12/30/2019</td>\n",
              "      <td>19:32:00</td>\n",
              "      <td>NaN</td>\n",
              "      <td>NaN</td>\n",
              "      <td>COMPLETED</td>\n",
              "      <td>MISDEMEANOR</td>\n",
              "      <td>PETIT LARCENY</td>\n",
              "      <td>LARCENY,PETIT FROM STORE-SHOPL</td>\n",
              "      <td>CHAIN STORE</td>\n",
              "      <td>12/30/2019</td>\n",
              "      <td>40.873671</td>\n",
              "      <td>-73.908014</td>\n",
              "      <td>0</td>\n",
              "      <td>1</td>\n",
              "      <td>0</td>\n",
              "      <td>2019-12-30 19:32:00</td>\n",
              "    </tr>\n",
              "    <tr>\n",
              "      <th>2019-12-30 15:30:00</th>\n",
              "      <td>299841674</td>\n",
              "      <td>MANHATTAN</td>\n",
              "      <td>12/30/2019</td>\n",
              "      <td>15:30:00</td>\n",
              "      <td>12/30/2019</td>\n",
              "      <td>16:50:00</td>\n",
              "      <td>COMPLETED</td>\n",
              "      <td>MISDEMEANOR</td>\n",
              "      <td>PETIT LARCENY</td>\n",
              "      <td>LARCENY,PETIT BY ACQUIRING LOS</td>\n",
              "      <td>STREET</td>\n",
              "      <td>12/30/2019</td>\n",
              "      <td>40.760935</td>\n",
              "      <td>-73.994529</td>\n",
              "      <td>0</td>\n",
              "      <td>1</td>\n",
              "      <td>0</td>\n",
              "      <td>2019-12-30 15:30:00</td>\n",
              "    </tr>\n",
              "  </tbody>\n",
              "</table>\n",
              "</div>"
            ],
            "text/plain": [
              "                     CMPLT_NUM    BORO_NM  ... VIOLATION         Date_OCCRD2\n",
              "Date_OCCRD                                 ...                              \n",
              "2019-12-31 18:00:00  314773184      BRONX  ...         0 2019-12-31 18:00:00\n",
              "2019-12-30 20:30:00  289837961  MANHATTAN  ...         0 2019-12-30 20:30:00\n",
              "2019-12-24 16:55:00  535744284   BROOKLYN  ...         0 2019-12-24 16:55:00\n",
              "2019-12-30 19:32:00  895678119      BRONX  ...         0 2019-12-30 19:32:00\n",
              "2019-12-30 15:30:00  299841674  MANHATTAN  ...         0 2019-12-30 15:30:00\n",
              "\n",
              "[5 rows x 18 columns]"
            ]
          },
          "metadata": {
            "tags": []
          },
          "execution_count": 7
        }
      ]
    },
    {
      "cell_type": "code",
      "metadata": {
        "colab": {
          "base_uri": "https://localhost:8080/"
        },
        "id": "uEa3AmLlEQwT",
        "outputId": "9edb212e-e638-454e-94fe-187150c37327"
      },
      "source": [
        "df2['Date_OCCRD2'].min()"
      ],
      "execution_count": 8,
      "outputs": [
        {
          "output_type": "execute_result",
          "data": {
            "text/plain": [
              "Timestamp('2019-01-01 00:00:00')"
            ]
          },
          "metadata": {
            "tags": []
          },
          "execution_count": 8
        }
      ]
    },
    {
      "cell_type": "code",
      "metadata": {
        "colab": {
          "base_uri": "https://localhost:8080/"
        },
        "id": "h4me1Kh_X4Rb",
        "outputId": "05cee20e-bf90-4b0e-d5d4-44df7d0b4423"
      },
      "source": [
        "df2['Date_OCCRD2'].max()"
      ],
      "execution_count": 9,
      "outputs": [
        {
          "output_type": "execute_result",
          "data": {
            "text/plain": [
              "Timestamp('2019-12-31 23:35:00')"
            ]
          },
          "metadata": {
            "tags": []
          },
          "execution_count": 9
        }
      ]
    },
    {
      "cell_type": "code",
      "metadata": {
        "colab": {
          "base_uri": "https://localhost:8080/"
        },
        "id": "NdvFYhETZCMT",
        "outputId": "b334be14-d47c-4a9f-bb88-67616a565e8f"
      },
      "source": [
        "df2.info()\n",
        "print('Some datetime values are not dates. These should be removed from analysis')"
      ],
      "execution_count": 10,
      "outputs": [
        {
          "output_type": "stream",
          "text": [
            "<class 'pandas.core.frame.DataFrame'>\n",
            "DatetimeIndex: 461711 entries, 2019-12-31 18:00:00 to NaT\n",
            "Data columns (total 18 columns):\n",
            " #   Column         Non-Null Count   Dtype         \n",
            "---  ------         --------------   -----         \n",
            " 0   CMPLT_NUM      461711 non-null  int64         \n",
            " 1   BORO_NM        461385 non-null  object        \n",
            " 2   CMPLNT_FR_DT   450976 non-null  object        \n",
            " 3   CMPLNT_FR_TM   461711 non-null  object        \n",
            " 4   CMPLNT_TO_DT   403712 non-null  object        \n",
            " 5   CMPLNT_TO_TM   403950 non-null  object        \n",
            " 6   CRM_STTUS      461711 non-null  object        \n",
            " 7   LAW_CODE       461711 non-null  object        \n",
            " 8   OFNS_DESC      461699 non-null  object        \n",
            " 9   PD_DESC        461392 non-null  object        \n",
            " 10  PREM_TYP_DESC  459841 non-null  object        \n",
            " 11  RPT_DT         461711 non-null  object        \n",
            " 12  LATITUDE       461711 non-null  float64       \n",
            " 13  LONGITUDE      461711 non-null  float64       \n",
            " 14  FELONY         461711 non-null  int64         \n",
            " 15  MISDEMEANOR    461711 non-null  int64         \n",
            " 16  VIOLATION      461711 non-null  int64         \n",
            " 17  Date_OCCRD2    450976 non-null  datetime64[ns]\n",
            "dtypes: datetime64[ns](1), float64(2), int64(4), object(11)\n",
            "memory usage: 66.9+ MB\n",
            "Some datetime values are not dates. These should be removed from analysis\n"
          ],
          "name": "stdout"
        }
      ]
    },
    {
      "cell_type": "code",
      "metadata": {
        "id": "roiByvRdySrH"
      },
      "source": [
        "# Removing non date values from dataframe\n",
        "df2[\"TMP\"] = df2.index.values               # this works because the index is a DateTimeIndex\n",
        "df2 = df2[df2.TMP.notnull()]                  # remove all NaT values\n",
        "df2.drop([\"TMP\"], axis=1, inplace=True)     # delete TMP column"
      ],
      "execution_count": 11,
      "outputs": []
    },
    {
      "cell_type": "code",
      "metadata": {
        "colab": {
          "base_uri": "https://localhost:8080/"
        },
        "id": "VFq4wzh4ytPH",
        "outputId": "0d7ba3c4-8f03-4df4-a7ae-5c85e18d986b"
      },
      "source": [
        "df2.info()\n",
        "print('Rows with non date index values have been removed. This ensures all the data belongs to 2019 year only.')"
      ],
      "execution_count": 12,
      "outputs": [
        {
          "output_type": "stream",
          "text": [
            "<class 'pandas.core.frame.DataFrame'>\n",
            "DatetimeIndex: 450976 entries, 2019-12-31 18:00:00 to 2019-01-04 05:15:00\n",
            "Data columns (total 18 columns):\n",
            " #   Column         Non-Null Count   Dtype         \n",
            "---  ------         --------------   -----         \n",
            " 0   CMPLT_NUM      450976 non-null  int64         \n",
            " 1   BORO_NM        450677 non-null  object        \n",
            " 2   CMPLNT_FR_DT   450976 non-null  object        \n",
            " 3   CMPLNT_FR_TM   450976 non-null  object        \n",
            " 4   CMPLNT_TO_DT   394679 non-null  object        \n",
            " 5   CMPLNT_TO_TM   394912 non-null  object        \n",
            " 6   CRM_STTUS      450976 non-null  object        \n",
            " 7   LAW_CODE       450976 non-null  object        \n",
            " 8   OFNS_DESC      450968 non-null  object        \n",
            " 9   PD_DESC        450684 non-null  object        \n",
            " 10  PREM_TYP_DESC  449191 non-null  object        \n",
            " 11  RPT_DT         450976 non-null  object        \n",
            " 12  LATITUDE       450976 non-null  float64       \n",
            " 13  LONGITUDE      450976 non-null  float64       \n",
            " 14  FELONY         450976 non-null  int64         \n",
            " 15  MISDEMEANOR    450976 non-null  int64         \n",
            " 16  VIOLATION      450976 non-null  int64         \n",
            " 17  Date_OCCRD2    450976 non-null  datetime64[ns]\n",
            "dtypes: datetime64[ns](1), float64(2), int64(4), object(11)\n",
            "memory usage: 65.4+ MB\n",
            "Rows with non date index values have been removed. This ensures all the data belongs to 2019 year only.\n"
          ],
          "name": "stdout"
        }
      ]
    },
    {
      "cell_type": "code",
      "metadata": {
        "colab": {
          "base_uri": "https://localhost:8080/",
          "height": 336
        },
        "id": "8dkb6ITCeI83",
        "outputId": "c3ea0700-a1d6-4ea8-cb94-b837ea08f835"
      },
      "source": [
        "# Analysis of Crimes Grouped by Violations, Felonies and Misdemeanor in 2019 \n",
        "\n",
        "dfYear = df2.copy()\n",
        "dfYear.index = dfYear.index.year\n",
        "vis0 = dfYear.groupby([dfYear.index.get_level_values(0)])[['VIOLATION','FELONY','MISDEMEANOR']].sum()\n",
        "vis0.plot.bar()\n",
        "plt.title('Amount of Crime in New York in 2019')\n",
        "plt.xlabel('Year')\n",
        "plt.show()\n",
        "print (\"Misdemeanors are the most commonly reported type of crime, followed by felonies and violations respecively.\")"
      ],
      "execution_count": 13,
      "outputs": [
        {
          "output_type": "display_data",
          "data": {
            "image/png": "[encoded data removed]",
            "text/plain": [
              "<Figure size 432x288 with 1 Axes>"
            ]
          },
          "metadata": {
            "tags": [],
            "needs_background": "light"
          }
        },
        {
          "output_type": "stream",
          "text": [
            "Misdemeanors are the most commonly reported type of crime, followed by felonies and violations respecively.\n"
          ],
          "name": "stdout"
        }
      ]
    },
    {
      "cell_type": "code",
      "metadata": {
        "colab": {
          "base_uri": "https://localhost:8080/",
          "height": 339
        },
        "id": "OGqP7_sLeJJr",
        "outputId": "9f125591-55ad-4fbf-c570-edd07ff79e32"
      },
      "source": [
        "# Analysis of Crimes Grouped by Violations, Felonies and Misdemeanor per Month in 2019\n",
        "\n",
        "dfMonth = df2.copy()\n",
        "dfMonth.index = dfMonth.index.month\n",
        "vis1 = dfMonth.groupby([dfMonth.index.get_level_values(0)])[['VIOLATION','FELONY','MISDEMEANOR']].sum()\n",
        "vis1.plot.bar()\n",
        "plt.title('Amount of Crime in New York per Month in 2019')\n",
        "plt.legend(loc='upper left')\n",
        "plt.xlabel('Month')\n",
        "plt.show()\n",
        "print (\"February has the least amount of overall crime by month. This may be because it has fewer days.\\nJuly has the highest of crime by month.\")"
      ],
      "execution_count": 14,
      "outputs": [
        {
          "output_type": "display_data",
          "data": {
            "image/png": "[encoded data removed]",
            "text/plain": [
              "<Figure size 432x288 with 1 Axes>"
            ]
          },
          "metadata": {
            "tags": [],
            "needs_background": "light"
          }
        },
        {
          "output_type": "stream",
          "text": [
            "February has the least amount of overall crime by month. This may be because it has fewer days.\n",
            "July has the highest of crime by month.\n"
          ],
          "name": "stdout"
        }
      ]
    },
    {
      "cell_type": "code",
      "metadata": {
        "colab": {
          "base_uri": "https://localhost:8080/",
          "height": 448
        },
        "id": "BIAw1DxIeHw7",
        "outputId": "57bde61f-732b-4538-9552-937deaf3a4dd"
      },
      "source": [
        "# Analysis of Crimes Grouped by Violations, Felonies and Misdemeanor per Day of Month in 2019\n",
        "\n",
        "dfDay = df2.copy()\n",
        "dfDay.index = dfDay.index.day\n",
        "vis2 = dfDay.groupby([dfDay.index.get_level_values(0)])[['VIOLATION','FELONY','MISDEMEANOR']].sum()\n",
        "vis2.plot.bar(figsize=(12,6))\n",
        "plt.title('Amount of Crime in New York per Day of Month in 2019')\n",
        "plt.xlabel('Day of Month')\n",
        "plt.show()\n",
        "print (\"Highest crime happens on the 1st of the month, while the lowest happens on the 31st.\\nThe low frequency of crimes on the 31st can be explained by the fact that only 7 months out of 12 have a 31st day.\")"
      ],
      "execution_count": 15,
      "outputs": [
        {
          "output_type": "display_data",
          "data": {
            "image/png": "[encoded data removed]",
            "text/plain": [
              "<Figure size 864x432 with 1 Axes>"
            ]
          },
          "metadata": {
            "tags": [],
            "needs_background": "light"
          }
        },
        {
          "output_type": "stream",
          "text": [
            "Highest crime happens on the 1st of the month, while the lowest happens on the 31st.\n",
            "The low frequency of crimes on the 31st can be explained by the fact that only 7 months out of 12 have a 31st day.\n"
          ],
          "name": "stdout"
        }
      ]
    },
    {
      "cell_type": "code",
      "metadata": {
        "colab": {
          "base_uri": "https://localhost:8080/",
          "height": 431
        },
        "id": "U7Ryj_KT_eMc",
        "outputId": "37dc5858-9e06-47cb-a4ac-dd7a65d2c127"
      },
      "source": [
        "# Analysis of Crimes Grouped by Violations, Felonies and Misdemeanor per Hour in 2019\n",
        "\n",
        "dfHour = df2.copy()\n",
        "dfHour.index = dfHour.index.hour  \n",
        "vis3 = dfHour.groupby([dfHour.index.get_level_values(0)])[['VIOLATION','FELONY','MISDEMEANOR']].sum()\n",
        "vis3.plot.bar(figsize=(12,6))\n",
        "plt.title('Amount of Crime per Hour in New York in 2019')\n",
        "plt.xlabel('Time of Day')\n",
        "plt.show()\n",
        "print (\"Highest crime happens during the day rather the night. At daytime, the highest concentration of crimes reported are between 3 pm and 6 pm.\")"
      ],
      "execution_count": 16,
      "outputs": [
        {
          "output_type": "display_data",
          "data": {
            "image/png": "[encoded data removed]",
            "text/plain": [
              "<Figure size 864x432 with 1 Axes>"
            ]
          },
          "metadata": {
            "tags": [],
            "needs_background": "light"
          }
        },
        {
          "output_type": "stream",
          "text": [
            "Highest crime happens during the day rather the night. At daytime, the highest concentration of crimes reported are between 3 pm and 6 pm.\n"
          ],
          "name": "stdout"
        }
      ]
    },
    {
      "cell_type": "code",
      "metadata": {
        "colab": {
          "base_uri": "https://localhost:8080/",
          "height": 111
        },
        "id": "-udoVKl1cRNK",
        "outputId": "1b634032-84dc-48d2-9eb5-9628f475d809"
      },
      "source": [
        "vis0"
      ],
      "execution_count": 17,
      "outputs": [
        {
          "output_type": "execute_result",
          "data": {
            "text/html": [
              "<div>\n",
              "<style scoped>\n",
              "    .dataframe tbody tr th:only-of-type {\n",
              "        vertical-align: middle;\n",
              "    }\n",
              "\n",
              "    .dataframe tbody tr th {\n",
              "        vertical-align: top;\n",
              "    }\n",
              "\n",
              "    .dataframe thead th {\n",
              "        text-align: right;\n",
              "    }\n",
              "</style>\n",
              "<table border=\"1\" class=\"dataframe\">\n",
              "  <thead>\n",
              "    <tr style=\"text-align: right;\">\n",
              "      <th></th>\n",
              "      <th>VIOLATION</th>\n",
              "      <th>FELONY</th>\n",
              "      <th>MISDEMEANOR</th>\n",
              "    </tr>\n",
              "    <tr>\n",
              "      <th>Date_OCCRD</th>\n",
              "      <th></th>\n",
              "      <th></th>\n",
              "      <th></th>\n",
              "    </tr>\n",
              "  </thead>\n",
              "  <tbody>\n",
              "    <tr>\n",
              "      <th>2019</th>\n",
              "      <td>71632</td>\n",
              "      <td>137569</td>\n",
              "      <td>241775</td>\n",
              "    </tr>\n",
              "  </tbody>\n",
              "</table>\n",
              "</div>"
            ],
            "text/plain": [
              "            VIOLATION  FELONY  MISDEMEANOR\n",
              "Date_OCCRD                                \n",
              "2019            71632  137569       241775"
            ]
          },
          "metadata": {
            "tags": []
          },
          "execution_count": 17
        }
      ]
    },
    {
      "cell_type": "code",
      "metadata": {
        "colab": {
          "base_uri": "https://localhost:8080/",
          "height": 452
        },
        "id": "IshY88QJcdtY",
        "outputId": "4581c549-2790-43be-9419-e33cf70090c0"
      },
      "source": [
        "vis1"
      ],
      "execution_count": 18,
      "outputs": [
        {
          "output_type": "execute_result",
          "data": {
            "text/html": [
              "<div>\n",
              "<style scoped>\n",
              "    .dataframe tbody tr th:only-of-type {\n",
              "        vertical-align: middle;\n",
              "    }\n",
              "\n",
              "    .dataframe tbody tr th {\n",
              "        vertical-align: top;\n",
              "    }\n",
              "\n",
              "    .dataframe thead th {\n",
              "        text-align: right;\n",
              "    }\n",
              "</style>\n",
              "<table border=\"1\" class=\"dataframe\">\n",
              "  <thead>\n",
              "    <tr style=\"text-align: right;\">\n",
              "      <th></th>\n",
              "      <th>VIOLATION</th>\n",
              "      <th>FELONY</th>\n",
              "      <th>MISDEMEANOR</th>\n",
              "    </tr>\n",
              "    <tr>\n",
              "      <th>Date_OCCRD</th>\n",
              "      <th></th>\n",
              "      <th></th>\n",
              "      <th></th>\n",
              "    </tr>\n",
              "  </thead>\n",
              "  <tbody>\n",
              "    <tr>\n",
              "      <th>1</th>\n",
              "      <td>5473</td>\n",
              "      <td>10830</td>\n",
              "      <td>19540</td>\n",
              "    </tr>\n",
              "    <tr>\n",
              "      <th>2</th>\n",
              "      <td>4990</td>\n",
              "      <td>9529</td>\n",
              "      <td>17251</td>\n",
              "    </tr>\n",
              "    <tr>\n",
              "      <th>3</th>\n",
              "      <td>5813</td>\n",
              "      <td>10756</td>\n",
              "      <td>19715</td>\n",
              "    </tr>\n",
              "    <tr>\n",
              "      <th>4</th>\n",
              "      <td>5991</td>\n",
              "      <td>10763</td>\n",
              "      <td>19493</td>\n",
              "    </tr>\n",
              "    <tr>\n",
              "      <th>5</th>\n",
              "      <td>6490</td>\n",
              "      <td>12011</td>\n",
              "      <td>21521</td>\n",
              "    </tr>\n",
              "    <tr>\n",
              "      <th>6</th>\n",
              "      <td>6420</td>\n",
              "      <td>12136</td>\n",
              "      <td>21152</td>\n",
              "    </tr>\n",
              "    <tr>\n",
              "      <th>7</th>\n",
              "      <td>6421</td>\n",
              "      <td>13057</td>\n",
              "      <td>22567</td>\n",
              "    </tr>\n",
              "    <tr>\n",
              "      <th>8</th>\n",
              "      <td>6290</td>\n",
              "      <td>12839</td>\n",
              "      <td>21521</td>\n",
              "    </tr>\n",
              "    <tr>\n",
              "      <th>9</th>\n",
              "      <td>6255</td>\n",
              "      <td>12355</td>\n",
              "      <td>21268</td>\n",
              "    </tr>\n",
              "    <tr>\n",
              "      <th>10</th>\n",
              "      <td>6149</td>\n",
              "      <td>12262</td>\n",
              "      <td>20754</td>\n",
              "    </tr>\n",
              "    <tr>\n",
              "      <th>11</th>\n",
              "      <td>5791</td>\n",
              "      <td>11067</td>\n",
              "      <td>19123</td>\n",
              "    </tr>\n",
              "    <tr>\n",
              "      <th>12</th>\n",
              "      <td>5549</td>\n",
              "      <td>9964</td>\n",
              "      <td>17870</td>\n",
              "    </tr>\n",
              "  </tbody>\n",
              "</table>\n",
              "</div>"
            ],
            "text/plain": [
              "            VIOLATION  FELONY  MISDEMEANOR\n",
              "Date_OCCRD                                \n",
              "1                5473   10830        19540\n",
              "2                4990    9529        17251\n",
              "3                5813   10756        19715\n",
              "4                5991   10763        19493\n",
              "5                6490   12011        21521\n",
              "6                6420   12136        21152\n",
              "7                6421   13057        22567\n",
              "8                6290   12839        21521\n",
              "9                6255   12355        21268\n",
              "10               6149   12262        20754\n",
              "11               5791   11067        19123\n",
              "12               5549    9964        17870"
            ]
          },
          "metadata": {
            "tags": []
          },
          "execution_count": 18
        }
      ]
    },
    {
      "cell_type": "code",
      "metadata": {
        "colab": {
          "base_uri": "https://localhost:8080/",
          "height": 1000
        },
        "id": "hQ1a2FBvcd73",
        "outputId": "43d0c366-f15f-4dd8-c119-0c76c310b0db"
      },
      "source": [
        "vis2"
      ],
      "execution_count": 19,
      "outputs": [
        {
          "output_type": "execute_result",
          "data": {
            "text/html": [
              "<div>\n",
              "<style scoped>\n",
              "    .dataframe tbody tr th:only-of-type {\n",
              "        vertical-align: middle;\n",
              "    }\n",
              "\n",
              "    .dataframe tbody tr th {\n",
              "        vertical-align: top;\n",
              "    }\n",
              "\n",
              "    .dataframe thead th {\n",
              "        text-align: right;\n",
              "    }\n",
              "</style>\n",
              "<table border=\"1\" class=\"dataframe\">\n",
              "  <thead>\n",
              "    <tr style=\"text-align: right;\">\n",
              "      <th></th>\n",
              "      <th>VIOLATION</th>\n",
              "      <th>FELONY</th>\n",
              "      <th>MISDEMEANOR</th>\n",
              "    </tr>\n",
              "    <tr>\n",
              "      <th>Date_OCCRD</th>\n",
              "      <th></th>\n",
              "      <th></th>\n",
              "      <th></th>\n",
              "    </tr>\n",
              "  </thead>\n",
              "  <tbody>\n",
              "    <tr>\n",
              "      <th>1</th>\n",
              "      <td>2696</td>\n",
              "      <td>5188</td>\n",
              "      <td>9490</td>\n",
              "    </tr>\n",
              "    <tr>\n",
              "      <th>2</th>\n",
              "      <td>2344</td>\n",
              "      <td>4509</td>\n",
              "      <td>7974</td>\n",
              "    </tr>\n",
              "    <tr>\n",
              "      <th>3</th>\n",
              "      <td>2292</td>\n",
              "      <td>4529</td>\n",
              "      <td>7901</td>\n",
              "    </tr>\n",
              "    <tr>\n",
              "      <th>4</th>\n",
              "      <td>2484</td>\n",
              "      <td>4533</td>\n",
              "      <td>7881</td>\n",
              "    </tr>\n",
              "    <tr>\n",
              "      <th>5</th>\n",
              "      <td>2400</td>\n",
              "      <td>4628</td>\n",
              "      <td>7915</td>\n",
              "    </tr>\n",
              "    <tr>\n",
              "      <th>6</th>\n",
              "      <td>2322</td>\n",
              "      <td>4491</td>\n",
              "      <td>7833</td>\n",
              "    </tr>\n",
              "    <tr>\n",
              "      <th>7</th>\n",
              "      <td>2358</td>\n",
              "      <td>4422</td>\n",
              "      <td>7981</td>\n",
              "    </tr>\n",
              "    <tr>\n",
              "      <th>8</th>\n",
              "      <td>2357</td>\n",
              "      <td>4804</td>\n",
              "      <td>7960</td>\n",
              "    </tr>\n",
              "    <tr>\n",
              "      <th>9</th>\n",
              "      <td>2349</td>\n",
              "      <td>4417</td>\n",
              "      <td>7692</td>\n",
              "    </tr>\n",
              "    <tr>\n",
              "      <th>10</th>\n",
              "      <td>2368</td>\n",
              "      <td>4471</td>\n",
              "      <td>8298</td>\n",
              "    </tr>\n",
              "    <tr>\n",
              "      <th>11</th>\n",
              "      <td>2392</td>\n",
              "      <td>4604</td>\n",
              "      <td>8116</td>\n",
              "    </tr>\n",
              "    <tr>\n",
              "      <th>12</th>\n",
              "      <td>2421</td>\n",
              "      <td>4523</td>\n",
              "      <td>7914</td>\n",
              "    </tr>\n",
              "    <tr>\n",
              "      <th>13</th>\n",
              "      <td>2218</td>\n",
              "      <td>4448</td>\n",
              "      <td>7958</td>\n",
              "    </tr>\n",
              "    <tr>\n",
              "      <th>14</th>\n",
              "      <td>2334</td>\n",
              "      <td>4501</td>\n",
              "      <td>8001</td>\n",
              "    </tr>\n",
              "    <tr>\n",
              "      <th>15</th>\n",
              "      <td>2521</td>\n",
              "      <td>4715</td>\n",
              "      <td>8321</td>\n",
              "    </tr>\n",
              "    <tr>\n",
              "      <th>16</th>\n",
              "      <td>2416</td>\n",
              "      <td>4525</td>\n",
              "      <td>7969</td>\n",
              "    </tr>\n",
              "    <tr>\n",
              "      <th>17</th>\n",
              "      <td>2374</td>\n",
              "      <td>4420</td>\n",
              "      <td>7970</td>\n",
              "    </tr>\n",
              "    <tr>\n",
              "      <th>18</th>\n",
              "      <td>2313</td>\n",
              "      <td>4377</td>\n",
              "      <td>7862</td>\n",
              "    </tr>\n",
              "    <tr>\n",
              "      <th>19</th>\n",
              "      <td>2268</td>\n",
              "      <td>4635</td>\n",
              "      <td>7862</td>\n",
              "    </tr>\n",
              "    <tr>\n",
              "      <th>20</th>\n",
              "      <td>2332</td>\n",
              "      <td>4448</td>\n",
              "      <td>7989</td>\n",
              "    </tr>\n",
              "    <tr>\n",
              "      <th>21</th>\n",
              "      <td>2311</td>\n",
              "      <td>4311</td>\n",
              "      <td>7962</td>\n",
              "    </tr>\n",
              "    <tr>\n",
              "      <th>22</th>\n",
              "      <td>2355</td>\n",
              "      <td>4507</td>\n",
              "      <td>7813</td>\n",
              "    </tr>\n",
              "    <tr>\n",
              "      <th>23</th>\n",
              "      <td>2363</td>\n",
              "      <td>4668</td>\n",
              "      <td>7922</td>\n",
              "    </tr>\n",
              "    <tr>\n",
              "      <th>24</th>\n",
              "      <td>2372</td>\n",
              "      <td>4456</td>\n",
              "      <td>7874</td>\n",
              "    </tr>\n",
              "    <tr>\n",
              "      <th>25</th>\n",
              "      <td>2309</td>\n",
              "      <td>4446</td>\n",
              "      <td>7749</td>\n",
              "    </tr>\n",
              "    <tr>\n",
              "      <th>26</th>\n",
              "      <td>2316</td>\n",
              "      <td>4414</td>\n",
              "      <td>8011</td>\n",
              "    </tr>\n",
              "    <tr>\n",
              "      <th>27</th>\n",
              "      <td>2245</td>\n",
              "      <td>4441</td>\n",
              "      <td>7736</td>\n",
              "    </tr>\n",
              "    <tr>\n",
              "      <th>28</th>\n",
              "      <td>2335</td>\n",
              "      <td>4425</td>\n",
              "      <td>7609</td>\n",
              "    </tr>\n",
              "    <tr>\n",
              "      <th>29</th>\n",
              "      <td>2079</td>\n",
              "      <td>4067</td>\n",
              "      <td>6931</td>\n",
              "    </tr>\n",
              "    <tr>\n",
              "      <th>30</th>\n",
              "      <td>2062</td>\n",
              "      <td>4137</td>\n",
              "      <td>6991</td>\n",
              "    </tr>\n",
              "    <tr>\n",
              "      <th>31</th>\n",
              "      <td>1326</td>\n",
              "      <td>2509</td>\n",
              "      <td>4290</td>\n",
              "    </tr>\n",
              "  </tbody>\n",
              "</table>\n",
              "</div>"
            ],
            "text/plain": [
              "            VIOLATION  FELONY  MISDEMEANOR\n",
              "Date_OCCRD                                \n",
              "1                2696    5188         9490\n",
              "2                2344    4509         7974\n",
              "3                2292    4529         7901\n",
              "4                2484    4533         7881\n",
              "5                2400    4628         7915\n",
              "6                2322    4491         7833\n",
              "7                2358    4422         7981\n",
              "8                2357    4804         7960\n",
              "9                2349    4417         7692\n",
              "10               2368    4471         8298\n",
              "11               2392    4604         8116\n",
              "12               2421    4523         7914\n",
              "13               2218    4448         7958\n",
              "14               2334    4501         8001\n",
              "15               2521    4715         8321\n",
              "16               2416    4525         7969\n",
              "17               2374    4420         7970\n",
              "18               2313    4377         7862\n",
              "19               2268    4635         7862\n",
              "20               2332    4448         7989\n",
              "21               2311    4311         7962\n",
              "22               2355    4507         7813\n",
              "23               2363    4668         7922\n",
              "24               2372    4456         7874\n",
              "25               2309    4446         7749\n",
              "26               2316    4414         8011\n",
              "27               2245    4441         7736\n",
              "28               2335    4425         7609\n",
              "29               2079    4067         6931\n",
              "30               2062    4137         6991\n",
              "31               1326    2509         4290"
            ]
          },
          "metadata": {
            "tags": []
          },
          "execution_count": 19
        }
      ]
    },
    {
      "cell_type": "code",
      "metadata": {
        "colab": {
          "base_uri": "https://localhost:8080/",
          "height": 824
        },
        "id": "g8397EVgcdVa",
        "outputId": "11909d59-e190-4104-d7bc-ba2da823c8e2"
      },
      "source": [
        "vis3"
      ],
      "execution_count": 20,
      "outputs": [
        {
          "output_type": "execute_result",
          "data": {
            "text/html": [
              "<div>\n",
              "<style scoped>\n",
              "    .dataframe tbody tr th:only-of-type {\n",
              "        vertical-align: middle;\n",
              "    }\n",
              "\n",
              "    .dataframe tbody tr th {\n",
              "        vertical-align: top;\n",
              "    }\n",
              "\n",
              "    .dataframe thead th {\n",
              "        text-align: right;\n",
              "    }\n",
              "</style>\n",
              "<table border=\"1\" class=\"dataframe\">\n",
              "  <thead>\n",
              "    <tr style=\"text-align: right;\">\n",
              "      <th></th>\n",
              "      <th>VIOLATION</th>\n",
              "      <th>FELONY</th>\n",
              "      <th>MISDEMEANOR</th>\n",
              "    </tr>\n",
              "    <tr>\n",
              "      <th>Date_OCCRD</th>\n",
              "      <th></th>\n",
              "      <th></th>\n",
              "      <th></th>\n",
              "    </tr>\n",
              "  </thead>\n",
              "  <tbody>\n",
              "    <tr>\n",
              "      <th>0</th>\n",
              "      <td>2150</td>\n",
              "      <td>7376</td>\n",
              "      <td>10782</td>\n",
              "    </tr>\n",
              "    <tr>\n",
              "      <th>1</th>\n",
              "      <td>1632</td>\n",
              "      <td>4881</td>\n",
              "      <td>7426</td>\n",
              "    </tr>\n",
              "    <tr>\n",
              "      <th>2</th>\n",
              "      <td>1277</td>\n",
              "      <td>4387</td>\n",
              "      <td>6285</td>\n",
              "    </tr>\n",
              "    <tr>\n",
              "      <th>3</th>\n",
              "      <td>1013</td>\n",
              "      <td>3868</td>\n",
              "      <td>5257</td>\n",
              "    </tr>\n",
              "    <tr>\n",
              "      <th>4</th>\n",
              "      <td>926</td>\n",
              "      <td>3275</td>\n",
              "      <td>4769</td>\n",
              "    </tr>\n",
              "    <tr>\n",
              "      <th>5</th>\n",
              "      <td>808</td>\n",
              "      <td>2443</td>\n",
              "      <td>3413</td>\n",
              "    </tr>\n",
              "    <tr>\n",
              "      <th>6</th>\n",
              "      <td>1080</td>\n",
              "      <td>2746</td>\n",
              "      <td>3809</td>\n",
              "    </tr>\n",
              "    <tr>\n",
              "      <th>7</th>\n",
              "      <td>2035</td>\n",
              "      <td>3039</td>\n",
              "      <td>5271</td>\n",
              "    </tr>\n",
              "    <tr>\n",
              "      <th>8</th>\n",
              "      <td>3120</td>\n",
              "      <td>4528</td>\n",
              "      <td>8126</td>\n",
              "    </tr>\n",
              "    <tr>\n",
              "      <th>9</th>\n",
              "      <td>3246</td>\n",
              "      <td>5080</td>\n",
              "      <td>8857</td>\n",
              "    </tr>\n",
              "    <tr>\n",
              "      <th>10</th>\n",
              "      <td>3548</td>\n",
              "      <td>5336</td>\n",
              "      <td>10064</td>\n",
              "    </tr>\n",
              "    <tr>\n",
              "      <th>11</th>\n",
              "      <td>3738</td>\n",
              "      <td>5197</td>\n",
              "      <td>10478</td>\n",
              "    </tr>\n",
              "    <tr>\n",
              "      <th>12</th>\n",
              "      <td>4366</td>\n",
              "      <td>7370</td>\n",
              "      <td>13486</td>\n",
              "    </tr>\n",
              "    <tr>\n",
              "      <th>13</th>\n",
              "      <td>4028</td>\n",
              "      <td>6032</td>\n",
              "      <td>12360</td>\n",
              "    </tr>\n",
              "    <tr>\n",
              "      <th>14</th>\n",
              "      <td>4429</td>\n",
              "      <td>6798</td>\n",
              "      <td>13577</td>\n",
              "    </tr>\n",
              "    <tr>\n",
              "      <th>15</th>\n",
              "      <td>4574</td>\n",
              "      <td>7732</td>\n",
              "      <td>15276</td>\n",
              "    </tr>\n",
              "    <tr>\n",
              "      <th>16</th>\n",
              "      <td>4252</td>\n",
              "      <td>7812</td>\n",
              "      <td>15123</td>\n",
              "    </tr>\n",
              "    <tr>\n",
              "      <th>17</th>\n",
              "      <td>4358</td>\n",
              "      <td>8043</td>\n",
              "      <td>15342</td>\n",
              "    </tr>\n",
              "    <tr>\n",
              "      <th>18</th>\n",
              "      <td>4287</td>\n",
              "      <td>7887</td>\n",
              "      <td>14871</td>\n",
              "    </tr>\n",
              "    <tr>\n",
              "      <th>19</th>\n",
              "      <td>3882</td>\n",
              "      <td>7302</td>\n",
              "      <td>13502</td>\n",
              "    </tr>\n",
              "    <tr>\n",
              "      <th>20</th>\n",
              "      <td>3987</td>\n",
              "      <td>7195</td>\n",
              "      <td>12937</td>\n",
              "    </tr>\n",
              "    <tr>\n",
              "      <th>21</th>\n",
              "      <td>3490</td>\n",
              "      <td>6583</td>\n",
              "      <td>11305</td>\n",
              "    </tr>\n",
              "    <tr>\n",
              "      <th>22</th>\n",
              "      <td>2974</td>\n",
              "      <td>6563</td>\n",
              "      <td>10280</td>\n",
              "    </tr>\n",
              "    <tr>\n",
              "      <th>23</th>\n",
              "      <td>2432</td>\n",
              "      <td>6096</td>\n",
              "      <td>9179</td>\n",
              "    </tr>\n",
              "  </tbody>\n",
              "</table>\n",
              "</div>"
            ],
            "text/plain": [
              "            VIOLATION  FELONY  MISDEMEANOR\n",
              "Date_OCCRD                                \n",
              "0                2150    7376        10782\n",
              "1                1632    4881         7426\n",
              "2                1277    4387         6285\n",
              "3                1013    3868         5257\n",
              "4                 926    3275         4769\n",
              "5                 808    2443         3413\n",
              "6                1080    2746         3809\n",
              "7                2035    3039         5271\n",
              "8                3120    4528         8126\n",
              "9                3246    5080         8857\n",
              "10               3548    5336        10064\n",
              "11               3738    5197        10478\n",
              "12               4366    7370        13486\n",
              "13               4028    6032        12360\n",
              "14               4429    6798        13577\n",
              "15               4574    7732        15276\n",
              "16               4252    7812        15123\n",
              "17               4358    8043        15342\n",
              "18               4287    7887        14871\n",
              "19               3882    7302        13502\n",
              "20               3987    7195        12937\n",
              "21               3490    6583        11305\n",
              "22               2974    6563        10280\n",
              "23               2432    6096         9179"
            ]
          },
          "metadata": {
            "tags": []
          },
          "execution_count": 20
        }
      ]
    },
    {
      "cell_type": "code",
      "metadata": {
        "id": "gyyw436z_eO3"
      },
      "source": [
        "# Filter data frame to keep only records for offenses listed below.\n",
        "dfOffense = df2.copy()\n",
        "dfOffense = dfOffense.loc[dfOffense['OFNS_DESC'].isin(['SEX CRIMES', 'MURDER & NON-NEGL. MANSLAUGHTER', 'ROBBERY', 'DANGEROUS DRUGS'])]\n"
      ],
      "execution_count": 21,
      "outputs": []
    },
    {
      "cell_type": "code",
      "metadata": {
        "colab": {
          "base_uri": "https://localhost:8080/"
        },
        "id": "KDT1895yuVX8",
        "outputId": "e511fc98-7f48-4e7d-9f26-9e407dc40058"
      },
      "source": [
        "dfOffense.info()\n",
        "print('The size of this dataframe has been reduced to 33,199 rows.')"
      ],
      "execution_count": 22,
      "outputs": [
        {
          "output_type": "stream",
          "text": [
            "<class 'pandas.core.frame.DataFrame'>\n",
            "DatetimeIndex: 33199 entries, 2019-12-31 18:00:00 to 2019-01-06 02:10:00\n",
            "Data columns (total 18 columns):\n",
            " #   Column         Non-Null Count  Dtype         \n",
            "---  ------         --------------  -----         \n",
            " 0   CMPLT_NUM      33199 non-null  int64         \n",
            " 1   BORO_NM        32907 non-null  object        \n",
            " 2   CMPLNT_FR_DT   33199 non-null  object        \n",
            " 3   CMPLNT_FR_TM   33199 non-null  object        \n",
            " 4   CMPLNT_TO_DT   28463 non-null  object        \n",
            " 5   CMPLNT_TO_TM   28467 non-null  object        \n",
            " 6   CRM_STTUS      33199 non-null  object        \n",
            " 7   LAW_CODE       33199 non-null  object        \n",
            " 8   OFNS_DESC      33199 non-null  object        \n",
            " 9   PD_DESC        32907 non-null  object        \n",
            " 10  PREM_TYP_DESC  32822 non-null  object        \n",
            " 11  RPT_DT         33199 non-null  object        \n",
            " 12  LATITUDE       33199 non-null  float64       \n",
            " 13  LONGITUDE      33199 non-null  float64       \n",
            " 14  FELONY         33199 non-null  int64         \n",
            " 15  MISDEMEANOR    33199 non-null  int64         \n",
            " 16  VIOLATION      33199 non-null  int64         \n",
            " 17  Date_OCCRD2    33199 non-null  datetime64[ns]\n",
            "dtypes: datetime64[ns](1), float64(2), int64(4), object(11)\n",
            "memory usage: 4.8+ MB\n",
            "The size of this dataframe has been reduced to 33,199 rows.\n"
          ],
          "name": "stdout"
        }
      ]
    },
    {
      "cell_type": "code",
      "metadata": {
        "colab": {
          "base_uri": "https://localhost:8080/"
        },
        "id": "T9BfFtx6uOTQ",
        "outputId": "3e822923-75d2-45e7-f641-525151468617"
      },
      "source": [
        "dfOffense.OFNS_DESC.unique()"
      ],
      "execution_count": 23,
      "outputs": [
        {
          "output_type": "execute_result",
          "data": {
            "text/plain": [
              "array(['ROBBERY', 'SEX CRIMES', 'DANGEROUS DRUGS',\n",
              "       'MURDER & NON-NEGL. MANSLAUGHTER'], dtype=object)"
            ]
          },
          "metadata": {
            "tags": []
          },
          "execution_count": 23
        }
      ]
    },
    {
      "cell_type": "code",
      "metadata": {
        "colab": {
          "base_uri": "https://localhost:8080/",
          "height": 340
        },
        "id": "TsTZG5O4uipA",
        "outputId": "d41a909b-9c2c-4dbd-8605-02631a004619"
      },
      "source": [
        "dfOffense.head()"
      ],
      "execution_count": 24,
      "outputs": [
        {
          "output_type": "execute_result",
          "data": {
            "text/html": [
              "<div>\n",
              "<style scoped>\n",
              "    .dataframe tbody tr th:only-of-type {\n",
              "        vertical-align: middle;\n",
              "    }\n",
              "\n",
              "    .dataframe tbody tr th {\n",
              "        vertical-align: top;\n",
              "    }\n",
              "\n",
              "    .dataframe thead th {\n",
              "        text-align: right;\n",
              "    }\n",
              "</style>\n",
              "<table border=\"1\" class=\"dataframe\">\n",
              "  <thead>\n",
              "    <tr style=\"text-align: right;\">\n",
              "      <th></th>\n",
              "      <th>CMPLT_NUM</th>\n",
              "      <th>BORO_NM</th>\n",
              "      <th>CMPLNT_FR_DT</th>\n",
              "      <th>CMPLNT_FR_TM</th>\n",
              "      <th>CMPLNT_TO_DT</th>\n",
              "      <th>CMPLNT_TO_TM</th>\n",
              "      <th>CRM_STTUS</th>\n",
              "      <th>LAW_CODE</th>\n",
              "      <th>OFNS_DESC</th>\n",
              "      <th>PD_DESC</th>\n",
              "      <th>PREM_TYP_DESC</th>\n",
              "      <th>RPT_DT</th>\n",
              "      <th>LATITUDE</th>\n",
              "      <th>LONGITUDE</th>\n",
              "      <th>FELONY</th>\n",
              "      <th>MISDEMEANOR</th>\n",
              "      <th>VIOLATION</th>\n",
              "      <th>Date_OCCRD2</th>\n",
              "    </tr>\n",
              "    <tr>\n",
              "      <th>Date_OCCRD</th>\n",
              "      <th></th>\n",
              "      <th></th>\n",
              "      <th></th>\n",
              "      <th></th>\n",
              "      <th></th>\n",
              "      <th></th>\n",
              "      <th></th>\n",
              "      <th></th>\n",
              "      <th></th>\n",
              "      <th></th>\n",
              "      <th></th>\n",
              "      <th></th>\n",
              "      <th></th>\n",
              "      <th></th>\n",
              "      <th></th>\n",
              "      <th></th>\n",
              "      <th></th>\n",
              "      <th></th>\n",
              "    </tr>\n",
              "  </thead>\n",
              "  <tbody>\n",
              "    <tr>\n",
              "      <th>2019-12-31 18:00:00</th>\n",
              "      <td>314773184</td>\n",
              "      <td>BRONX</td>\n",
              "      <td>12/31/2019</td>\n",
              "      <td>18:00:00</td>\n",
              "      <td>NaN</td>\n",
              "      <td>NaN</td>\n",
              "      <td>COMPLETED</td>\n",
              "      <td>FELONY</td>\n",
              "      <td>ROBBERY</td>\n",
              "      <td>ROBBERY,PERSONAL ELECTRONIC DEVICE</td>\n",
              "      <td>STREET</td>\n",
              "      <td>12/31/2019</td>\n",
              "      <td>40.838026</td>\n",
              "      <td>-73.881681</td>\n",
              "      <td>1</td>\n",
              "      <td>0</td>\n",
              "      <td>0</td>\n",
              "      <td>2019-12-31 18:00:00</td>\n",
              "    </tr>\n",
              "    <tr>\n",
              "      <th>2019-12-29 17:20:00</th>\n",
              "      <td>487138011</td>\n",
              "      <td>BRONX</td>\n",
              "      <td>12/29/2019</td>\n",
              "      <td>17:20:00</td>\n",
              "      <td>NaN</td>\n",
              "      <td>NaN</td>\n",
              "      <td>COMPLETED</td>\n",
              "      <td>FELONY</td>\n",
              "      <td>ROBBERY</td>\n",
              "      <td>ROBBERY,PERSONAL ELECTRONIC DEVICE</td>\n",
              "      <td>STREET</td>\n",
              "      <td>12/29/2019</td>\n",
              "      <td>40.830641</td>\n",
              "      <td>-73.874879</td>\n",
              "      <td>1</td>\n",
              "      <td>0</td>\n",
              "      <td>0</td>\n",
              "      <td>2019-12-29 17:20:00</td>\n",
              "    </tr>\n",
              "    <tr>\n",
              "      <th>2019-12-29 12:30:00</th>\n",
              "      <td>227601821</td>\n",
              "      <td>MANHATTAN</td>\n",
              "      <td>12/29/2019</td>\n",
              "      <td>12:30:00</td>\n",
              "      <td>12/29/2019</td>\n",
              "      <td>13:30:00</td>\n",
              "      <td>COMPLETED</td>\n",
              "      <td>MISDEMEANOR</td>\n",
              "      <td>SEX CRIMES</td>\n",
              "      <td>SEXUAL ABUSE 3,2</td>\n",
              "      <td>STREET</td>\n",
              "      <td>12/29/2019</td>\n",
              "      <td>40.764818</td>\n",
              "      <td>-73.985190</td>\n",
              "      <td>0</td>\n",
              "      <td>1</td>\n",
              "      <td>0</td>\n",
              "      <td>2019-12-29 12:30:00</td>\n",
              "    </tr>\n",
              "    <tr>\n",
              "      <th>2019-12-23 14:41:00</th>\n",
              "      <td>260307851</td>\n",
              "      <td>MANHATTAN</td>\n",
              "      <td>12/23/2019</td>\n",
              "      <td>14:41:00</td>\n",
              "      <td>NaN</td>\n",
              "      <td>NaN</td>\n",
              "      <td>COMPLETED</td>\n",
              "      <td>FELONY</td>\n",
              "      <td>ROBBERY</td>\n",
              "      <td>ROBBERY,DELIVERY PERSON</td>\n",
              "      <td>STREET</td>\n",
              "      <td>12/23/2019</td>\n",
              "      <td>40.713476</td>\n",
              "      <td>-73.997303</td>\n",
              "      <td>1</td>\n",
              "      <td>0</td>\n",
              "      <td>0</td>\n",
              "      <td>2019-12-23 14:41:00</td>\n",
              "    </tr>\n",
              "    <tr>\n",
              "      <th>2019-12-22 00:15:00</th>\n",
              "      <td>175176016</td>\n",
              "      <td>BRONX</td>\n",
              "      <td>12/22/2019</td>\n",
              "      <td>00:15:00</td>\n",
              "      <td>NaN</td>\n",
              "      <td>NaN</td>\n",
              "      <td>COMPLETED</td>\n",
              "      <td>FELONY</td>\n",
              "      <td>ROBBERY</td>\n",
              "      <td>ROBBERY,PERSONAL ELECTRONIC DEVICE</td>\n",
              "      <td>STREET</td>\n",
              "      <td>12/22/2019</td>\n",
              "      <td>40.886651</td>\n",
              "      <td>-73.859425</td>\n",
              "      <td>1</td>\n",
              "      <td>0</td>\n",
              "      <td>0</td>\n",
              "      <td>2019-12-22 00:15:00</td>\n",
              "    </tr>\n",
              "  </tbody>\n",
              "</table>\n",
              "</div>"
            ],
            "text/plain": [
              "                     CMPLT_NUM    BORO_NM  ... VIOLATION         Date_OCCRD2\n",
              "Date_OCCRD                                 ...                              \n",
              "2019-12-31 18:00:00  314773184      BRONX  ...         0 2019-12-31 18:00:00\n",
              "2019-12-29 17:20:00  487138011      BRONX  ...         0 2019-12-29 17:20:00\n",
              "2019-12-29 12:30:00  227601821  MANHATTAN  ...         0 2019-12-29 12:30:00\n",
              "2019-12-23 14:41:00  260307851  MANHATTAN  ...         0 2019-12-23 14:41:00\n",
              "2019-12-22 00:15:00  175176016      BRONX  ...         0 2019-12-22 00:15:00\n",
              "\n",
              "[5 rows x 18 columns]"
            ]
          },
          "metadata": {
            "tags": []
          },
          "execution_count": 24
        }
      ]
    },
    {
      "cell_type": "code",
      "metadata": {
        "id": "ww21HMqvuE1F",
        "colab": {
          "base_uri": "https://localhost:8080/",
          "height": 711
        },
        "outputId": "59a1dd90-79b6-45b2-9a6e-ce8319ffa5c3"
      },
      "source": [
        "# create columns for categories of offense descriptions\n",
        "dummies = dfOffense['OFNS_DESC'].str.get_dummies()\n",
        "dfOffense = dfOffense.reset_index(drop=True).join(dummies.reset_index(drop=True)[['SEX CRIMES', 'MURDER & NON-NEGL. MANSLAUGHTER', 'ROBBERY', 'DANGEROUS DRUGS']])\n",
        "dfOffense"
      ],
      "execution_count": 25,
      "outputs": [
        {
          "output_type": "execute_result",
          "data": {
            "text/html": [
              "<div>\n",
              "<style scoped>\n",
              "    .dataframe tbody tr th:only-of-type {\n",
              "        vertical-align: middle;\n",
              "    }\n",
              "\n",
              "    .dataframe tbody tr th {\n",
              "        vertical-align: top;\n",
              "    }\n",
              "\n",
              "    .dataframe thead th {\n",
              "        text-align: right;\n",
              "    }\n",
              "</style>\n",
              "<table border=\"1\" class=\"dataframe\">\n",
              "  <thead>\n",
              "    <tr style=\"text-align: right;\">\n",
              "      <th></th>\n",
              "      <th>CMPLT_NUM</th>\n",
              "      <th>BORO_NM</th>\n",
              "      <th>CMPLNT_FR_DT</th>\n",
              "      <th>CMPLNT_FR_TM</th>\n",
              "      <th>CMPLNT_TO_DT</th>\n",
              "      <th>CMPLNT_TO_TM</th>\n",
              "      <th>CRM_STTUS</th>\n",
              "      <th>LAW_CODE</th>\n",
              "      <th>OFNS_DESC</th>\n",
              "      <th>PD_DESC</th>\n",
              "      <th>PREM_TYP_DESC</th>\n",
              "      <th>RPT_DT</th>\n",
              "      <th>LATITUDE</th>\n",
              "      <th>LONGITUDE</th>\n",
              "      <th>FELONY</th>\n",
              "      <th>MISDEMEANOR</th>\n",
              "      <th>VIOLATION</th>\n",
              "      <th>Date_OCCRD2</th>\n",
              "      <th>SEX CRIMES</th>\n",
              "      <th>MURDER &amp; NON-NEGL. MANSLAUGHTER</th>\n",
              "      <th>ROBBERY</th>\n",
              "      <th>DANGEROUS DRUGS</th>\n",
              "    </tr>\n",
              "  </thead>\n",
              "  <tbody>\n",
              "    <tr>\n",
              "      <th>0</th>\n",
              "      <td>314773184</td>\n",
              "      <td>BRONX</td>\n",
              "      <td>12/31/2019</td>\n",
              "      <td>18:00:00</td>\n",
              "      <td>NaN</td>\n",
              "      <td>NaN</td>\n",
              "      <td>COMPLETED</td>\n",
              "      <td>FELONY</td>\n",
              "      <td>ROBBERY</td>\n",
              "      <td>ROBBERY,PERSONAL ELECTRONIC DEVICE</td>\n",
              "      <td>STREET</td>\n",
              "      <td>12/31/2019</td>\n",
              "      <td>40.838026</td>\n",
              "      <td>-73.881681</td>\n",
              "      <td>1</td>\n",
              "      <td>0</td>\n",
              "      <td>0</td>\n",
              "      <td>2019-12-31 18:00:00</td>\n",
              "      <td>0</td>\n",
              "      <td>0</td>\n",
              "      <td>1</td>\n",
              "      <td>0</td>\n",
              "    </tr>\n",
              "    <tr>\n",
              "      <th>1</th>\n",
              "      <td>487138011</td>\n",
              "      <td>BRONX</td>\n",
              "      <td>12/29/2019</td>\n",
              "      <td>17:20:00</td>\n",
              "      <td>NaN</td>\n",
              "      <td>NaN</td>\n",
              "      <td>COMPLETED</td>\n",
              "      <td>FELONY</td>\n",
              "      <td>ROBBERY</td>\n",
              "      <td>ROBBERY,PERSONAL ELECTRONIC DEVICE</td>\n",
              "      <td>STREET</td>\n",
              "      <td>12/29/2019</td>\n",
              "      <td>40.830641</td>\n",
              "      <td>-73.874879</td>\n",
              "      <td>1</td>\n",
              "      <td>0</td>\n",
              "      <td>0</td>\n",
              "      <td>2019-12-29 17:20:00</td>\n",
              "      <td>0</td>\n",
              "      <td>0</td>\n",
              "      <td>1</td>\n",
              "      <td>0</td>\n",
              "    </tr>\n",
              "    <tr>\n",
              "      <th>2</th>\n",
              "      <td>227601821</td>\n",
              "      <td>MANHATTAN</td>\n",
              "      <td>12/29/2019</td>\n",
              "      <td>12:30:00</td>\n",
              "      <td>12/29/2019</td>\n",
              "      <td>13:30:00</td>\n",
              "      <td>COMPLETED</td>\n",
              "      <td>MISDEMEANOR</td>\n",
              "      <td>SEX CRIMES</td>\n",
              "      <td>SEXUAL ABUSE 3,2</td>\n",
              "      <td>STREET</td>\n",
              "      <td>12/29/2019</td>\n",
              "      <td>40.764818</td>\n",
              "      <td>-73.985190</td>\n",
              "      <td>0</td>\n",
              "      <td>1</td>\n",
              "      <td>0</td>\n",
              "      <td>2019-12-29 12:30:00</td>\n",
              "      <td>1</td>\n",
              "      <td>0</td>\n",
              "      <td>0</td>\n",
              "      <td>0</td>\n",
              "    </tr>\n",
              "    <tr>\n",
              "      <th>3</th>\n",
              "      <td>260307851</td>\n",
              "      <td>MANHATTAN</td>\n",
              "      <td>12/23/2019</td>\n",
              "      <td>14:41:00</td>\n",
              "      <td>NaN</td>\n",
              "      <td>NaN</td>\n",
              "      <td>COMPLETED</td>\n",
              "      <td>FELONY</td>\n",
              "      <td>ROBBERY</td>\n",
              "      <td>ROBBERY,DELIVERY PERSON</td>\n",
              "      <td>STREET</td>\n",
              "      <td>12/23/2019</td>\n",
              "      <td>40.713476</td>\n",
              "      <td>-73.997303</td>\n",
              "      <td>1</td>\n",
              "      <td>0</td>\n",
              "      <td>0</td>\n",
              "      <td>2019-12-23 14:41:00</td>\n",
              "      <td>0</td>\n",
              "      <td>0</td>\n",
              "      <td>1</td>\n",
              "      <td>0</td>\n",
              "    </tr>\n",
              "    <tr>\n",
              "      <th>4</th>\n",
              "      <td>175176016</td>\n",
              "      <td>BRONX</td>\n",
              "      <td>12/22/2019</td>\n",
              "      <td>00:15:00</td>\n",
              "      <td>NaN</td>\n",
              "      <td>NaN</td>\n",
              "      <td>COMPLETED</td>\n",
              "      <td>FELONY</td>\n",
              "      <td>ROBBERY</td>\n",
              "      <td>ROBBERY,PERSONAL ELECTRONIC DEVICE</td>\n",
              "      <td>STREET</td>\n",
              "      <td>12/22/2019</td>\n",
              "      <td>40.886651</td>\n",
              "      <td>-73.859425</td>\n",
              "      <td>1</td>\n",
              "      <td>0</td>\n",
              "      <td>0</td>\n",
              "      <td>2019-12-22 00:15:00</td>\n",
              "      <td>0</td>\n",
              "      <td>0</td>\n",
              "      <td>1</td>\n",
              "      <td>0</td>\n",
              "    </tr>\n",
              "    <tr>\n",
              "      <th>...</th>\n",
              "      <td>...</td>\n",
              "      <td>...</td>\n",
              "      <td>...</td>\n",
              "      <td>...</td>\n",
              "      <td>...</td>\n",
              "      <td>...</td>\n",
              "      <td>...</td>\n",
              "      <td>...</td>\n",
              "      <td>...</td>\n",
              "      <td>...</td>\n",
              "      <td>...</td>\n",
              "      <td>...</td>\n",
              "      <td>...</td>\n",
              "      <td>...</td>\n",
              "      <td>...</td>\n",
              "      <td>...</td>\n",
              "      <td>...</td>\n",
              "      <td>...</td>\n",
              "      <td>...</td>\n",
              "      <td>...</td>\n",
              "      <td>...</td>\n",
              "      <td>...</td>\n",
              "    </tr>\n",
              "    <tr>\n",
              "      <th>33194</th>\n",
              "      <td>523222593</td>\n",
              "      <td>BRONX</td>\n",
              "      <td>01/04/2019</td>\n",
              "      <td>16:18:00</td>\n",
              "      <td>01/04/2019</td>\n",
              "      <td>16:23:00</td>\n",
              "      <td>COMPLETED</td>\n",
              "      <td>MISDEMEANOR</td>\n",
              "      <td>DANGEROUS DRUGS</td>\n",
              "      <td>CONTROLLED SUBSTANCE, POSSESSI</td>\n",
              "      <td>STREET</td>\n",
              "      <td>01/04/2019</td>\n",
              "      <td>40.848583</td>\n",
              "      <td>-73.902677</td>\n",
              "      <td>0</td>\n",
              "      <td>1</td>\n",
              "      <td>0</td>\n",
              "      <td>2019-01-04 16:18:00</td>\n",
              "      <td>0</td>\n",
              "      <td>0</td>\n",
              "      <td>0</td>\n",
              "      <td>1</td>\n",
              "    </tr>\n",
              "    <tr>\n",
              "      <th>33195</th>\n",
              "      <td>384767882</td>\n",
              "      <td>MANHATTAN</td>\n",
              "      <td>01/01/2019</td>\n",
              "      <td>20:40:00</td>\n",
              "      <td>01/01/2019</td>\n",
              "      <td>20:50:00</td>\n",
              "      <td>COMPLETED</td>\n",
              "      <td>MISDEMEANOR</td>\n",
              "      <td>DANGEROUS DRUGS</td>\n",
              "      <td>CONTROLLED SUBSTANCE, POSSESSI</td>\n",
              "      <td>TRANSIT - NYC SUBWAY</td>\n",
              "      <td>01/01/2019</td>\n",
              "      <td>40.750999</td>\n",
              "      <td>-73.990625</td>\n",
              "      <td>0</td>\n",
              "      <td>1</td>\n",
              "      <td>0</td>\n",
              "      <td>2019-01-01 20:40:00</td>\n",
              "      <td>0</td>\n",
              "      <td>0</td>\n",
              "      <td>0</td>\n",
              "      <td>1</td>\n",
              "    </tr>\n",
              "    <tr>\n",
              "      <th>33196</th>\n",
              "      <td>510006616</td>\n",
              "      <td>QUEENS</td>\n",
              "      <td>01/01/2019</td>\n",
              "      <td>04:20:00</td>\n",
              "      <td>01/01/2019</td>\n",
              "      <td>06:00:00</td>\n",
              "      <td>COMPLETED</td>\n",
              "      <td>FELONY</td>\n",
              "      <td>DANGEROUS DRUGS</td>\n",
              "      <td>CONTROLLED SUBSTANCE,POSSESS.</td>\n",
              "      <td>HIGHWAY/PARKWAY</td>\n",
              "      <td>01/01/2019</td>\n",
              "      <td>40.737766</td>\n",
              "      <td>-73.935922</td>\n",
              "      <td>1</td>\n",
              "      <td>0</td>\n",
              "      <td>0</td>\n",
              "      <td>2019-01-01 04:20:00</td>\n",
              "      <td>0</td>\n",
              "      <td>0</td>\n",
              "      <td>0</td>\n",
              "      <td>1</td>\n",
              "    </tr>\n",
              "    <tr>\n",
              "      <th>33197</th>\n",
              "      <td>827973866</td>\n",
              "      <td>BRONX</td>\n",
              "      <td>01/04/2019</td>\n",
              "      <td>14:08:00</td>\n",
              "      <td>01/04/2019</td>\n",
              "      <td>14:20:00</td>\n",
              "      <td>COMPLETED</td>\n",
              "      <td>FELONY</td>\n",
              "      <td>DANGEROUS DRUGS</td>\n",
              "      <td>CONTROLLED SUBSTANCE,INTENT TO</td>\n",
              "      <td>RESIDENCE - APT. HOUSE</td>\n",
              "      <td>01/04/2019</td>\n",
              "      <td>40.856183</td>\n",
              "      <td>-73.903147</td>\n",
              "      <td>1</td>\n",
              "      <td>0</td>\n",
              "      <td>0</td>\n",
              "      <td>2019-01-04 14:08:00</td>\n",
              "      <td>0</td>\n",
              "      <td>0</td>\n",
              "      <td>0</td>\n",
              "      <td>1</td>\n",
              "    </tr>\n",
              "    <tr>\n",
              "      <th>33198</th>\n",
              "      <td>336549952</td>\n",
              "      <td>BROOKLYN</td>\n",
              "      <td>01/06/2019</td>\n",
              "      <td>02:10:00</td>\n",
              "      <td>01/06/2019</td>\n",
              "      <td>02:11:00</td>\n",
              "      <td>COMPLETED</td>\n",
              "      <td>MISDEMEANOR</td>\n",
              "      <td>DANGEROUS DRUGS</td>\n",
              "      <td>CONTROLLED SUBSTANCE, POSSESSI</td>\n",
              "      <td>STREET</td>\n",
              "      <td>01/06/2019</td>\n",
              "      <td>40.674584</td>\n",
              "      <td>-73.922049</td>\n",
              "      <td>0</td>\n",
              "      <td>1</td>\n",
              "      <td>0</td>\n",
              "      <td>2019-01-06 02:10:00</td>\n",
              "      <td>0</td>\n",
              "      <td>0</td>\n",
              "      <td>0</td>\n",
              "      <td>1</td>\n",
              "    </tr>\n",
              "  </tbody>\n",
              "</table>\n",
              "<p>33199 rows × 22 columns</p>\n",
              "</div>"
            ],
            "text/plain": [
              "       CMPLT_NUM    BORO_NM  ... ROBBERY DANGEROUS DRUGS\n",
              "0      314773184      BRONX  ...       1               0\n",
              "1      487138011      BRONX  ...       1               0\n",
              "2      227601821  MANHATTAN  ...       0               0\n",
              "3      260307851  MANHATTAN  ...       1               0\n",
              "4      175176016      BRONX  ...       1               0\n",
              "...          ...        ...  ...     ...             ...\n",
              "33194  523222593      BRONX  ...       0               1\n",
              "33195  384767882  MANHATTAN  ...       0               1\n",
              "33196  510006616     QUEENS  ...       0               1\n",
              "33197  827973866      BRONX  ...       0               1\n",
              "33198  336549952   BROOKLYN  ...       0               1\n",
              "\n",
              "[33199 rows x 22 columns]"
            ]
          },
          "metadata": {
            "tags": []
          },
          "execution_count": 25
        }
      ]
    },
    {
      "cell_type": "code",
      "metadata": {
        "id": "4-0w_GH-wbnw"
      },
      "source": [
        "# reset index as datetime after merging columns above required setting index to default numbers\n",
        "\n",
        "dfOffense['Date_OCCRD3'] = dfOffense['Date_OCCRD2']\n",
        "dfOffense.set_index('Date_OCCRD2', inplace=True) # set above datetime column as index\n"
      ],
      "execution_count": 26,
      "outputs": []
    },
    {
      "cell_type": "code",
      "metadata": {
        "colab": {
          "base_uri": "https://localhost:8080/",
          "height": 374
        },
        "id": "fapoJLNgoFbw",
        "outputId": "3a22d0f1-216b-462d-db39-95c180bfcdd0"
      },
      "source": [
        "dfOffense.head()"
      ],
      "execution_count": 27,
      "outputs": [
        {
          "output_type": "execute_result",
          "data": {
            "text/html": [
              "<div>\n",
              "<style scoped>\n",
              "    .dataframe tbody tr th:only-of-type {\n",
              "        vertical-align: middle;\n",
              "    }\n",
              "\n",
              "    .dataframe tbody tr th {\n",
              "        vertical-align: top;\n",
              "    }\n",
              "\n",
              "    .dataframe thead th {\n",
              "        text-align: right;\n",
              "    }\n",
              "</style>\n",
              "<table border=\"1\" class=\"dataframe\">\n",
              "  <thead>\n",
              "    <tr style=\"text-align: right;\">\n",
              "      <th></th>\n",
              "      <th>CMPLT_NUM</th>\n",
              "      <th>BORO_NM</th>\n",
              "      <th>CMPLNT_FR_DT</th>\n",
              "      <th>CMPLNT_FR_TM</th>\n",
              "      <th>CMPLNT_TO_DT</th>\n",
              "      <th>CMPLNT_TO_TM</th>\n",
              "      <th>CRM_STTUS</th>\n",
              "      <th>LAW_CODE</th>\n",
              "      <th>OFNS_DESC</th>\n",
              "      <th>PD_DESC</th>\n",
              "      <th>PREM_TYP_DESC</th>\n",
              "      <th>RPT_DT</th>\n",
              "      <th>LATITUDE</th>\n",
              "      <th>LONGITUDE</th>\n",
              "      <th>FELONY</th>\n",
              "      <th>MISDEMEANOR</th>\n",
              "      <th>VIOLATION</th>\n",
              "      <th>SEX CRIMES</th>\n",
              "      <th>MURDER &amp; NON-NEGL. MANSLAUGHTER</th>\n",
              "      <th>ROBBERY</th>\n",
              "      <th>DANGEROUS DRUGS</th>\n",
              "      <th>Date_OCCRD3</th>\n",
              "    </tr>\n",
              "    <tr>\n",
              "      <th>Date_OCCRD2</th>\n",
              "      <th></th>\n",
              "      <th></th>\n",
              "      <th></th>\n",
              "      <th></th>\n",
              "      <th></th>\n",
              "      <th></th>\n",
              "      <th></th>\n",
              "      <th></th>\n",
              "      <th></th>\n",
              "      <th></th>\n",
              "      <th></th>\n",
              "      <th></th>\n",
              "      <th></th>\n",
              "      <th></th>\n",
              "      <th></th>\n",
              "      <th></th>\n",
              "      <th></th>\n",
              "      <th></th>\n",
              "      <th></th>\n",
              "      <th></th>\n",
              "      <th></th>\n",
              "      <th></th>\n",
              "    </tr>\n",
              "  </thead>\n",
              "  <tbody>\n",
              "    <tr>\n",
              "      <th>2019-12-31 18:00:00</th>\n",
              "      <td>314773184</td>\n",
              "      <td>BRONX</td>\n",
              "      <td>12/31/2019</td>\n",
              "      <td>18:00:00</td>\n",
              "      <td>NaN</td>\n",
              "      <td>NaN</td>\n",
              "      <td>COMPLETED</td>\n",
              "      <td>FELONY</td>\n",
              "      <td>ROBBERY</td>\n",
              "      <td>ROBBERY,PERSONAL ELECTRONIC DEVICE</td>\n",
              "      <td>STREET</td>\n",
              "      <td>12/31/2019</td>\n",
              "      <td>40.838026</td>\n",
              "      <td>-73.881681</td>\n",
              "      <td>1</td>\n",
              "      <td>0</td>\n",
              "      <td>0</td>\n",
              "      <td>0</td>\n",
              "      <td>0</td>\n",
              "      <td>1</td>\n",
              "      <td>0</td>\n",
              "      <td>2019-12-31 18:00:00</td>\n",
              "    </tr>\n",
              "    <tr>\n",
              "      <th>2019-12-29 17:20:00</th>\n",
              "      <td>487138011</td>\n",
              "      <td>BRONX</td>\n",
              "      <td>12/29/2019</td>\n",
              "      <td>17:20:00</td>\n",
              "      <td>NaN</td>\n",
              "      <td>NaN</td>\n",
              "      <td>COMPLETED</td>\n",
              "      <td>FELONY</td>\n",
              "      <td>ROBBERY</td>\n",
              "      <td>ROBBERY,PERSONAL ELECTRONIC DEVICE</td>\n",
              "      <td>STREET</td>\n",
              "      <td>12/29/2019</td>\n",
              "      <td>40.830641</td>\n",
              "      <td>-73.874879</td>\n",
              "      <td>1</td>\n",
              "      <td>0</td>\n",
              "      <td>0</td>\n",
              "      <td>0</td>\n",
              "      <td>0</td>\n",
              "      <td>1</td>\n",
              "      <td>0</td>\n",
              "      <td>2019-12-29 17:20:00</td>\n",
              "    </tr>\n",
              "    <tr>\n",
              "      <th>2019-12-29 12:30:00</th>\n",
              "      <td>227601821</td>\n",
              "      <td>MANHATTAN</td>\n",
              "      <td>12/29/2019</td>\n",
              "      <td>12:30:00</td>\n",
              "      <td>12/29/2019</td>\n",
              "      <td>13:30:00</td>\n",
              "      <td>COMPLETED</td>\n",
              "      <td>MISDEMEANOR</td>\n",
              "      <td>SEX CRIMES</td>\n",
              "      <td>SEXUAL ABUSE 3,2</td>\n",
              "      <td>STREET</td>\n",
              "      <td>12/29/2019</td>\n",
              "      <td>40.764818</td>\n",
              "      <td>-73.985190</td>\n",
              "      <td>0</td>\n",
              "      <td>1</td>\n",
              "      <td>0</td>\n",
              "      <td>1</td>\n",
              "      <td>0</td>\n",
              "      <td>0</td>\n",
              "      <td>0</td>\n",
              "      <td>2019-12-29 12:30:00</td>\n",
              "    </tr>\n",
              "    <tr>\n",
              "      <th>2019-12-23 14:41:00</th>\n",
              "      <td>260307851</td>\n",
              "      <td>MANHATTAN</td>\n",
              "      <td>12/23/2019</td>\n",
              "      <td>14:41:00</td>\n",
              "      <td>NaN</td>\n",
              "      <td>NaN</td>\n",
              "      <td>COMPLETED</td>\n",
              "      <td>FELONY</td>\n",
              "      <td>ROBBERY</td>\n",
              "      <td>ROBBERY,DELIVERY PERSON</td>\n",
              "      <td>STREET</td>\n",
              "      <td>12/23/2019</td>\n",
              "      <td>40.713476</td>\n",
              "      <td>-73.997303</td>\n",
              "      <td>1</td>\n",
              "      <td>0</td>\n",
              "      <td>0</td>\n",
              "      <td>0</td>\n",
              "      <td>0</td>\n",
              "      <td>1</td>\n",
              "      <td>0</td>\n",
              "      <td>2019-12-23 14:41:00</td>\n",
              "    </tr>\n",
              "    <tr>\n",
              "      <th>2019-12-22 00:15:00</th>\n",
              "      <td>175176016</td>\n",
              "      <td>BRONX</td>\n",
              "      <td>12/22/2019</td>\n",
              "      <td>00:15:00</td>\n",
              "      <td>NaN</td>\n",
              "      <td>NaN</td>\n",
              "      <td>COMPLETED</td>\n",
              "      <td>FELONY</td>\n",
              "      <td>ROBBERY</td>\n",
              "      <td>ROBBERY,PERSONAL ELECTRONIC DEVICE</td>\n",
              "      <td>STREET</td>\n",
              "      <td>12/22/2019</td>\n",
              "      <td>40.886651</td>\n",
              "      <td>-73.859425</td>\n",
              "      <td>1</td>\n",
              "      <td>0</td>\n",
              "      <td>0</td>\n",
              "      <td>0</td>\n",
              "      <td>0</td>\n",
              "      <td>1</td>\n",
              "      <td>0</td>\n",
              "      <td>2019-12-22 00:15:00</td>\n",
              "    </tr>\n",
              "  </tbody>\n",
              "</table>\n",
              "</div>"
            ],
            "text/plain": [
              "                     CMPLT_NUM    BORO_NM  ... DANGEROUS DRUGS         Date_OCCRD3\n",
              "Date_OCCRD2                                ...                                    \n",
              "2019-12-31 18:00:00  314773184      BRONX  ...               0 2019-12-31 18:00:00\n",
              "2019-12-29 17:20:00  487138011      BRONX  ...               0 2019-12-29 17:20:00\n",
              "2019-12-29 12:30:00  227601821  MANHATTAN  ...               0 2019-12-29 12:30:00\n",
              "2019-12-23 14:41:00  260307851  MANHATTAN  ...               0 2019-12-23 14:41:00\n",
              "2019-12-22 00:15:00  175176016      BRONX  ...               0 2019-12-22 00:15:00\n",
              "\n",
              "[5 rows x 22 columns]"
            ]
          },
          "metadata": {
            "tags": []
          },
          "execution_count": 27
        }
      ]
    },
    {
      "cell_type": "code",
      "metadata": {
        "colab": {
          "base_uri": "https://localhost:8080/",
          "height": 585
        },
        "id": "ZolnfqfyjGZB",
        "outputId": "37b6e805-8f4c-4a48-d26c-f832b84bcae6"
      },
      "source": [
        "# Create visualization showing counts of various offense types\n",
        "\n",
        "dfOffense.index = dfOffense.index.hour\n",
        "vis4 = dfOffense.groupby([dfOffense.index.get_level_values(0)])[['SEX CRIMES', 'MURDER & NON-NEGL. MANSLAUGHTER', 'ROBBERY', 'DANGEROUS DRUGS']].sum()\n",
        "axes = vis4.plot.bar(figsize=(12,8), subplots=True, sharex=True, sharey=False)\n",
        "axes[0].set_ylabel('Count')\n",
        "axes[1].set_ylabel('Count')\n",
        "axes[2].set_ylabel('Count')\n",
        "axes[3].set_ylabel('Count')\n",
        "plt.xlabel('Time of Day in 0-23 Hours', fontsize=14)\n",
        "plt.ylabel('Count', fontsize=10)\n",
        "plt.tight_layout(h_pad=1)\n",
        "\n",
        "plt.show()"
      ],
      "execution_count": 28,
      "outputs": [
        {
          "output_type": "display_data",
          "data": {
            "image/png": "[encoded data removed]",
            "text/plain": [
              "<Figure size 864x576 with 4 Axes>"
            ]
          },
          "metadata": {
            "tags": [],
            "needs_background": "light"
          }
        }
      ]
    },
    {
      "cell_type": "code",
      "metadata": {
        "colab": {
          "base_uri": "https://localhost:8080/",
          "height": 824
        },
        "id": "l5d9IYvi0qYN",
        "outputId": "0c8ed2a0-af4c-4402-8df2-c3ae1dce6737"
      },
      "source": [
        "vis4"
      ],
      "execution_count": 29,
      "outputs": [
        {
          "output_type": "execute_result",
          "data": {
            "text/html": [
              "<div>\n",
              "<style scoped>\n",
              "    .dataframe tbody tr th:only-of-type {\n",
              "        vertical-align: middle;\n",
              "    }\n",
              "\n",
              "    .dataframe tbody tr th {\n",
              "        vertical-align: top;\n",
              "    }\n",
              "\n",
              "    .dataframe thead th {\n",
              "        text-align: right;\n",
              "    }\n",
              "</style>\n",
              "<table border=\"1\" class=\"dataframe\">\n",
              "  <thead>\n",
              "    <tr style=\"text-align: right;\">\n",
              "      <th></th>\n",
              "      <th>SEX CRIMES</th>\n",
              "      <th>MURDER &amp; NON-NEGL. MANSLAUGHTER</th>\n",
              "      <th>ROBBERY</th>\n",
              "      <th>DANGEROUS DRUGS</th>\n",
              "    </tr>\n",
              "    <tr>\n",
              "      <th>Date_OCCRD2</th>\n",
              "      <th></th>\n",
              "      <th></th>\n",
              "      <th></th>\n",
              "      <th></th>\n",
              "    </tr>\n",
              "  </thead>\n",
              "  <tbody>\n",
              "    <tr>\n",
              "      <th>0</th>\n",
              "      <td>632</td>\n",
              "      <td>17</td>\n",
              "      <td>691</td>\n",
              "      <td>462</td>\n",
              "    </tr>\n",
              "    <tr>\n",
              "      <th>1</th>\n",
              "      <td>195</td>\n",
              "      <td>22</td>\n",
              "      <td>607</td>\n",
              "      <td>392</td>\n",
              "    </tr>\n",
              "    <tr>\n",
              "      <th>2</th>\n",
              "      <td>149</td>\n",
              "      <td>11</td>\n",
              "      <td>600</td>\n",
              "      <td>247</td>\n",
              "    </tr>\n",
              "    <tr>\n",
              "      <th>3</th>\n",
              "      <td>155</td>\n",
              "      <td>9</td>\n",
              "      <td>588</td>\n",
              "      <td>174</td>\n",
              "    </tr>\n",
              "    <tr>\n",
              "      <th>4</th>\n",
              "      <td>149</td>\n",
              "      <td>10</td>\n",
              "      <td>563</td>\n",
              "      <td>106</td>\n",
              "    </tr>\n",
              "    <tr>\n",
              "      <th>5</th>\n",
              "      <td>104</td>\n",
              "      <td>10</td>\n",
              "      <td>368</td>\n",
              "      <td>87</td>\n",
              "    </tr>\n",
              "    <tr>\n",
              "      <th>6</th>\n",
              "      <td>102</td>\n",
              "      <td>9</td>\n",
              "      <td>239</td>\n",
              "      <td>533</td>\n",
              "    </tr>\n",
              "    <tr>\n",
              "      <th>7</th>\n",
              "      <td>211</td>\n",
              "      <td>2</td>\n",
              "      <td>220</td>\n",
              "      <td>156</td>\n",
              "    </tr>\n",
              "    <tr>\n",
              "      <th>8</th>\n",
              "      <td>345</td>\n",
              "      <td>6</td>\n",
              "      <td>290</td>\n",
              "      <td>197</td>\n",
              "    </tr>\n",
              "    <tr>\n",
              "      <th>9</th>\n",
              "      <td>199</td>\n",
              "      <td>4</td>\n",
              "      <td>310</td>\n",
              "      <td>308</td>\n",
              "    </tr>\n",
              "    <tr>\n",
              "      <th>10</th>\n",
              "      <td>204</td>\n",
              "      <td>7</td>\n",
              "      <td>356</td>\n",
              "      <td>326</td>\n",
              "    </tr>\n",
              "    <tr>\n",
              "      <th>11</th>\n",
              "      <td>210</td>\n",
              "      <td>4</td>\n",
              "      <td>406</td>\n",
              "      <td>363</td>\n",
              "    </tr>\n",
              "    <tr>\n",
              "      <th>12</th>\n",
              "      <td>291</td>\n",
              "      <td>8</td>\n",
              "      <td>419</td>\n",
              "      <td>529</td>\n",
              "    </tr>\n",
              "    <tr>\n",
              "      <th>13</th>\n",
              "      <td>248</td>\n",
              "      <td>17</td>\n",
              "      <td>485</td>\n",
              "      <td>677</td>\n",
              "    </tr>\n",
              "    <tr>\n",
              "      <th>14</th>\n",
              "      <td>301</td>\n",
              "      <td>10</td>\n",
              "      <td>628</td>\n",
              "      <td>952</td>\n",
              "    </tr>\n",
              "    <tr>\n",
              "      <th>15</th>\n",
              "      <td>335</td>\n",
              "      <td>5</td>\n",
              "      <td>760</td>\n",
              "      <td>1060</td>\n",
              "    </tr>\n",
              "    <tr>\n",
              "      <th>16</th>\n",
              "      <td>358</td>\n",
              "      <td>15</td>\n",
              "      <td>695</td>\n",
              "      <td>1317</td>\n",
              "    </tr>\n",
              "    <tr>\n",
              "      <th>17</th>\n",
              "      <td>383</td>\n",
              "      <td>17</td>\n",
              "      <td>739</td>\n",
              "      <td>1227</td>\n",
              "    </tr>\n",
              "    <tr>\n",
              "      <th>18</th>\n",
              "      <td>335</td>\n",
              "      <td>11</td>\n",
              "      <td>699</td>\n",
              "      <td>1082</td>\n",
              "    </tr>\n",
              "    <tr>\n",
              "      <th>19</th>\n",
              "      <td>278</td>\n",
              "      <td>10</td>\n",
              "      <td>730</td>\n",
              "      <td>859</td>\n",
              "    </tr>\n",
              "    <tr>\n",
              "      <th>20</th>\n",
              "      <td>269</td>\n",
              "      <td>19</td>\n",
              "      <td>737</td>\n",
              "      <td>693</td>\n",
              "    </tr>\n",
              "    <tr>\n",
              "      <th>21</th>\n",
              "      <td>283</td>\n",
              "      <td>27</td>\n",
              "      <td>764</td>\n",
              "      <td>531</td>\n",
              "    </tr>\n",
              "    <tr>\n",
              "      <th>22</th>\n",
              "      <td>259</td>\n",
              "      <td>20</td>\n",
              "      <td>734</td>\n",
              "      <td>581</td>\n",
              "    </tr>\n",
              "    <tr>\n",
              "      <th>23</th>\n",
              "      <td>220</td>\n",
              "      <td>22</td>\n",
              "      <td>697</td>\n",
              "      <td>508</td>\n",
              "    </tr>\n",
              "  </tbody>\n",
              "</table>\n",
              "</div>"
            ],
            "text/plain": [
              "             SEX CRIMES  ...  DANGEROUS DRUGS\n",
              "Date_OCCRD2              ...                 \n",
              "0                   632  ...              462\n",
              "1                   195  ...              392\n",
              "2                   149  ...              247\n",
              "3                   155  ...              174\n",
              "4                   149  ...              106\n",
              "5                   104  ...               87\n",
              "6                   102  ...              533\n",
              "7                   211  ...              156\n",
              "8                   345  ...              197\n",
              "9                   199  ...              308\n",
              "10                  204  ...              326\n",
              "11                  210  ...              363\n",
              "12                  291  ...              529\n",
              "13                  248  ...              677\n",
              "14                  301  ...              952\n",
              "15                  335  ...             1060\n",
              "16                  358  ...             1317\n",
              "17                  383  ...             1227\n",
              "18                  335  ...             1082\n",
              "19                  278  ...              859\n",
              "20                  269  ...              693\n",
              "21                  283  ...              531\n",
              "22                  259  ...              581\n",
              "23                  220  ...              508\n",
              "\n",
              "[24 rows x 4 columns]"
            ]
          },
          "metadata": {
            "tags": []
          },
          "execution_count": 29
        }
      ]
    },
    {
      "cell_type": "code",
      "metadata": {
        "colab": {
          "base_uri": "https://localhost:8080/"
        },
        "id": "fS3IeT5TEliT",
        "outputId": "87951864-501a-4a18-a5b8-ef9bf64b8d89"
      },
      "source": [
        "# Create dataframe for only drug related crimes\n",
        "dfDrugs = df2.copy()\n",
        "dfDrugs = dfDrugs[dfDrugs['OFNS_DESC']=='DANGEROUS DRUGS']\n",
        "length = len(dfDrugs['PD_DESC'])\n",
        "dfDrugs.info()\n"
      ],
      "execution_count": 30,
      "outputs": [
        {
          "output_type": "stream",
          "text": [
            "<class 'pandas.core.frame.DataFrame'>\n",
            "DatetimeIndex: 13367 entries, 2019-12-13 20:00:00 to 2019-01-06 02:10:00\n",
            "Data columns (total 18 columns):\n",
            " #   Column         Non-Null Count  Dtype         \n",
            "---  ------         --------------  -----         \n",
            " 0   CMPLT_NUM      13367 non-null  int64         \n",
            " 1   BORO_NM        13367 non-null  object        \n",
            " 2   CMPLNT_FR_DT   13367 non-null  object        \n",
            " 3   CMPLNT_FR_TM   13367 non-null  object        \n",
            " 4   CMPLNT_TO_DT   11163 non-null  object        \n",
            " 5   CMPLNT_TO_TM   11165 non-null  object        \n",
            " 6   CRM_STTUS      13367 non-null  object        \n",
            " 7   LAW_CODE       13367 non-null  object        \n",
            " 8   OFNS_DESC      13367 non-null  object        \n",
            " 9   PD_DESC        13367 non-null  object        \n",
            " 10  PREM_TYP_DESC  13360 non-null  object        \n",
            " 11  RPT_DT         13367 non-null  object        \n",
            " 12  LATITUDE       13367 non-null  float64       \n",
            " 13  LONGITUDE      13367 non-null  float64       \n",
            " 14  FELONY         13367 non-null  int64         \n",
            " 15  MISDEMEANOR    13367 non-null  int64         \n",
            " 16  VIOLATION      13367 non-null  int64         \n",
            " 17  Date_OCCRD2    13367 non-null  datetime64[ns]\n",
            "dtypes: datetime64[ns](1), float64(2), int64(4), object(11)\n",
            "memory usage: 1.9+ MB\n"
          ],
          "name": "stdout"
        }
      ]
    },
    {
      "cell_type": "code",
      "metadata": {
        "id": "adLB1mnzHFrS",
        "colab": {
          "base_uri": "https://localhost:8080/"
        },
        "outputId": "3b236556-be56-4148-fc31-efaae1d57b42"
      },
      "source": [
        "DrugMarijuana = dfDrugs['PD_DESC'].str.contains('MARIJUANA')*1\n",
        "DrugMarijuanaSum = DrugMarijuana.sum()\n",
        "PrctMarijuana = DrugMarijuanaSum/length\n",
        "print('Marijuana related crimes are '+str(round(PrctMarijuana*100,2))+'% of total dangerous drugs crimes.')"
      ],
      "execution_count": 31,
      "outputs": [
        {
          "output_type": "stream",
          "text": [
            "Marijuana related crimes are 13.75% of total dangerous drugs crimes.\n"
          ],
          "name": "stdout"
        }
      ]
    },
    {
      "cell_type": "code",
      "metadata": {
        "id": "C_HsfwqVGZMY",
        "colab": {
          "base_uri": "https://localhost:8080/"
        },
        "outputId": "dca39134-f9f6-4ae8-d75b-fc24f01f7d13"
      },
      "source": [
        "DrugSale = dfDrugs['PD_DESC'].str.contains('SALE')*1\n",
        "DrugSaleSum = DrugSale.sum()\n",
        "PrctSale = DrugSaleSum/length\n",
        "print('Sale related crimes are '+str(round(PrctSale*100,2))+'% of total dangerous drugs crimes.')"
      ],
      "execution_count": 32,
      "outputs": [
        {
          "output_type": "stream",
          "text": [
            "Sale related crimes are 17.45% of total dangerous drugs crimes.\n"
          ],
          "name": "stdout"
        }
      ]
    },
    {
      "cell_type": "code",
      "metadata": {
        "colab": {
          "base_uri": "https://localhost:8080/",
          "height": 1000
        },
        "id": "l_OlMvHV_eTi",
        "outputId": "0400d48e-5128-4587-b286-61529c78e7f3"
      },
      "source": [
        "# Plotting Crime Type by Ranked Frequency in NYC for 2019\n",
        "\n",
        "df2['OFNS_DESC'].value_counts()[:10].plot.bar()\n",
        "plt.ylabel('Count')\n",
        "plt.title('10 Most Common Crimes in New York City in 2019')\n",
        "plt.show()\n",
        "\n",
        "df2['OFNS_DESC'].value_counts()[10:20].plot.bar()\n",
        "plt.ylabel('Count')\n",
        "plt.title('11th-20th Most Common Crimes in New York City in 2019')\n",
        "plt.show()\n",
        "\n",
        "df2['OFNS_DESC'].value_counts()[20:30].plot.bar()\n",
        "plt.ylabel('Count')\n",
        "plt.title('21st-30th Most Common Crimes in New York City in 2019')\n",
        "plt.show()\n",
        "\n",
        "df2['OFNS_DESC'].value_counts()[30:40].plot.bar()\n",
        "plt.ylabel('Count')\n",
        "plt.title('31st-40th Most Common Crimes in New York City in 2019')\n",
        "plt.show()\n",
        "\n",
        "df2['OFNS_DESC'].value_counts()[40:50].plot.bar()\n",
        "plt.ylabel('Count')\n",
        "plt.title('41st-50th Most Common Crimes in New York City in 2019')\n",
        "plt.show()\n",
        "\n",
        "df2['OFNS_DESC'].value_counts()[50:].plot.bar()\n",
        "plt.ylabel('Count')\n",
        "plt.title('51st-63rd Most Common Crimes in New York City in 2019')\n",
        "plt.show()"
      ],
      "execution_count": 33,
      "outputs": [
        {
          "output_type": "display_data",
          "data": {
            "image/png": "[encoded data removed]",
            "text/plain": [
              "<Figure size 432x288 with 1 Axes>"
            ]
          },
          "metadata": {
            "tags": [],
            "needs_background": "light"
          }
        },
        {
          "output_type": "display_data",
          "data": {
            "image/png": "[encoded data removed]",
            "text/plain": [
              "<Figure size 432x288 with 1 Axes>"
            ]
          },
          "metadata": {
            "tags": [],
            "needs_background": "light"
          }
        },
        {
          "output_type": "display_data",
          "data": {
            "image/png": "[encoded data removed]",
            "text/plain": [
              "<Figure size 432x288 with 1 Axes>"
            ]
          },
          "metadata": {
            "tags": [],
            "needs_background": "light"
          }
        },
        {
          "output_type": "display_data",
          "data": {
            "image/png": "[encoded data removed]",
            "text/plain": [
              "<Figure size 432x288 with 1 Axes>"
            ]
          },
          "metadata": {
            "tags": [],
            "needs_background": "light"
          }
        },
        {
          "output_type": "display_data",
          "data": {
            "image/png": "[encoded data removed]",
            "text/plain": [
              "<Figure size 432x288 with 1 Axes>"
            ]
          },
          "metadata": {
            "tags": [],
            "needs_background": "light"
          }
        },
        {
          "output_type": "display_data",
          "data": {
            "image/png": "[encoded data removed]",
            "text/plain": [
              "<Figure size 432x288 with 1 Axes>"
            ]
          },
          "metadata": {
            "tags": [],
            "needs_background": "light"
          }
        }
      ]
    },
    {
      "cell_type": "code",
      "metadata": {
        "id": "67jRtLxb_eWB",
        "colab": {
          "base_uri": "https://localhost:8080/",
          "height": 374
        },
        "outputId": "247b8d63-3b13-4062-d753-a2a2218aa8d2"
      },
      "source": [
        "dfOffense.head()"
      ],
      "execution_count": 34,
      "outputs": [
        {
          "output_type": "execute_result",
          "data": {
            "text/html": [
              "<div>\n",
              "<style scoped>\n",
              "    .dataframe tbody tr th:only-of-type {\n",
              "        vertical-align: middle;\n",
              "    }\n",
              "\n",
              "    .dataframe tbody tr th {\n",
              "        vertical-align: top;\n",
              "    }\n",
              "\n",
              "    .dataframe thead th {\n",
              "        text-align: right;\n",
              "    }\n",
              "</style>\n",
              "<table border=\"1\" class=\"dataframe\">\n",
              "  <thead>\n",
              "    <tr style=\"text-align: right;\">\n",
              "      <th></th>\n",
              "      <th>CMPLT_NUM</th>\n",
              "      <th>BORO_NM</th>\n",
              "      <th>CMPLNT_FR_DT</th>\n",
              "      <th>CMPLNT_FR_TM</th>\n",
              "      <th>CMPLNT_TO_DT</th>\n",
              "      <th>CMPLNT_TO_TM</th>\n",
              "      <th>CRM_STTUS</th>\n",
              "      <th>LAW_CODE</th>\n",
              "      <th>OFNS_DESC</th>\n",
              "      <th>PD_DESC</th>\n",
              "      <th>PREM_TYP_DESC</th>\n",
              "      <th>RPT_DT</th>\n",
              "      <th>LATITUDE</th>\n",
              "      <th>LONGITUDE</th>\n",
              "      <th>FELONY</th>\n",
              "      <th>MISDEMEANOR</th>\n",
              "      <th>VIOLATION</th>\n",
              "      <th>SEX CRIMES</th>\n",
              "      <th>MURDER &amp; NON-NEGL. MANSLAUGHTER</th>\n",
              "      <th>ROBBERY</th>\n",
              "      <th>DANGEROUS DRUGS</th>\n",
              "      <th>Date_OCCRD3</th>\n",
              "    </tr>\n",
              "    <tr>\n",
              "      <th>Date_OCCRD2</th>\n",
              "      <th></th>\n",
              "      <th></th>\n",
              "      <th></th>\n",
              "      <th></th>\n",
              "      <th></th>\n",
              "      <th></th>\n",
              "      <th></th>\n",
              "      <th></th>\n",
              "      <th></th>\n",
              "      <th></th>\n",
              "      <th></th>\n",
              "      <th></th>\n",
              "      <th></th>\n",
              "      <th></th>\n",
              "      <th></th>\n",
              "      <th></th>\n",
              "      <th></th>\n",
              "      <th></th>\n",
              "      <th></th>\n",
              "      <th></th>\n",
              "      <th></th>\n",
              "      <th></th>\n",
              "    </tr>\n",
              "  </thead>\n",
              "  <tbody>\n",
              "    <tr>\n",
              "      <th>18</th>\n",
              "      <td>314773184</td>\n",
              "      <td>BRONX</td>\n",
              "      <td>12/31/2019</td>\n",
              "      <td>18:00:00</td>\n",
              "      <td>NaN</td>\n",
              "      <td>NaN</td>\n",
              "      <td>COMPLETED</td>\n",
              "      <td>FELONY</td>\n",
              "      <td>ROBBERY</td>\n",
              "      <td>ROBBERY,PERSONAL ELECTRONIC DEVICE</td>\n",
              "      <td>STREET</td>\n",
              "      <td>12/31/2019</td>\n",
              "      <td>40.838026</td>\n",
              "      <td>-73.881681</td>\n",
              "      <td>1</td>\n",
              "      <td>0</td>\n",
              "      <td>0</td>\n",
              "      <td>0</td>\n",
              "      <td>0</td>\n",
              "      <td>1</td>\n",
              "      <td>0</td>\n",
              "      <td>2019-12-31 18:00:00</td>\n",
              "    </tr>\n",
              "    <tr>\n",
              "      <th>17</th>\n",
              "      <td>487138011</td>\n",
              "      <td>BRONX</td>\n",
              "      <td>12/29/2019</td>\n",
              "      <td>17:20:00</td>\n",
              "      <td>NaN</td>\n",
              "      <td>NaN</td>\n",
              "      <td>COMPLETED</td>\n",
              "      <td>FELONY</td>\n",
              "      <td>ROBBERY</td>\n",
              "      <td>ROBBERY,PERSONAL ELECTRONIC DEVICE</td>\n",
              "      <td>STREET</td>\n",
              "      <td>12/29/2019</td>\n",
              "      <td>40.830641</td>\n",
              "      <td>-73.874879</td>\n",
              "      <td>1</td>\n",
              "      <td>0</td>\n",
              "      <td>0</td>\n",
              "      <td>0</td>\n",
              "      <td>0</td>\n",
              "      <td>1</td>\n",
              "      <td>0</td>\n",
              "      <td>2019-12-29 17:20:00</td>\n",
              "    </tr>\n",
              "    <tr>\n",
              "      <th>12</th>\n",
              "      <td>227601821</td>\n",
              "      <td>MANHATTAN</td>\n",
              "      <td>12/29/2019</td>\n",
              "      <td>12:30:00</td>\n",
              "      <td>12/29/2019</td>\n",
              "      <td>13:30:00</td>\n",
              "      <td>COMPLETED</td>\n",
              "      <td>MISDEMEANOR</td>\n",
              "      <td>SEX CRIMES</td>\n",
              "      <td>SEXUAL ABUSE 3,2</td>\n",
              "      <td>STREET</td>\n",
              "      <td>12/29/2019</td>\n",
              "      <td>40.764818</td>\n",
              "      <td>-73.985190</td>\n",
              "      <td>0</td>\n",
              "      <td>1</td>\n",
              "      <td>0</td>\n",
              "      <td>1</td>\n",
              "      <td>0</td>\n",
              "      <td>0</td>\n",
              "      <td>0</td>\n",
              "      <td>2019-12-29 12:30:00</td>\n",
              "    </tr>\n",
              "    <tr>\n",
              "      <th>14</th>\n",
              "      <td>260307851</td>\n",
              "      <td>MANHATTAN</td>\n",
              "      <td>12/23/2019</td>\n",
              "      <td>14:41:00</td>\n",
              "      <td>NaN</td>\n",
              "      <td>NaN</td>\n",
              "      <td>COMPLETED</td>\n",
              "      <td>FELONY</td>\n",
              "      <td>ROBBERY</td>\n",
              "      <td>ROBBERY,DELIVERY PERSON</td>\n",
              "      <td>STREET</td>\n",
              "      <td>12/23/2019</td>\n",
              "      <td>40.713476</td>\n",
              "      <td>-73.997303</td>\n",
              "      <td>1</td>\n",
              "      <td>0</td>\n",
              "      <td>0</td>\n",
              "      <td>0</td>\n",
              "      <td>0</td>\n",
              "      <td>1</td>\n",
              "      <td>0</td>\n",
              "      <td>2019-12-23 14:41:00</td>\n",
              "    </tr>\n",
              "    <tr>\n",
              "      <th>0</th>\n",
              "      <td>175176016</td>\n",
              "      <td>BRONX</td>\n",
              "      <td>12/22/2019</td>\n",
              "      <td>00:15:00</td>\n",
              "      <td>NaN</td>\n",
              "      <td>NaN</td>\n",
              "      <td>COMPLETED</td>\n",
              "      <td>FELONY</td>\n",
              "      <td>ROBBERY</td>\n",
              "      <td>ROBBERY,PERSONAL ELECTRONIC DEVICE</td>\n",
              "      <td>STREET</td>\n",
              "      <td>12/22/2019</td>\n",
              "      <td>40.886651</td>\n",
              "      <td>-73.859425</td>\n",
              "      <td>1</td>\n",
              "      <td>0</td>\n",
              "      <td>0</td>\n",
              "      <td>0</td>\n",
              "      <td>0</td>\n",
              "      <td>1</td>\n",
              "      <td>0</td>\n",
              "      <td>2019-12-22 00:15:00</td>\n",
              "    </tr>\n",
              "  </tbody>\n",
              "</table>\n",
              "</div>"
            ],
            "text/plain": [
              "             CMPLT_NUM    BORO_NM  ... DANGEROUS DRUGS         Date_OCCRD3\n",
              "Date_OCCRD2                        ...                                    \n",
              "18           314773184      BRONX  ...               0 2019-12-31 18:00:00\n",
              "17           487138011      BRONX  ...               0 2019-12-29 17:20:00\n",
              "12           227601821  MANHATTAN  ...               0 2019-12-29 12:30:00\n",
              "14           260307851  MANHATTAN  ...               0 2019-12-23 14:41:00\n",
              "0            175176016      BRONX  ...               0 2019-12-22 00:15:00\n",
              "\n",
              "[5 rows x 22 columns]"
            ]
          },
          "metadata": {
            "tags": []
          },
          "execution_count": 34
        }
      ]
    },
    {
      "cell_type": "code",
      "metadata": {
        "id": "gEV0bxM1_eZE"
      },
      "source": [
        "# Change column names for offenses dataframe\n",
        "dfOffense.columns\n",
        "dfOffense.columns = ['CMPLT_NUM', 'BORO_NM', 'CMPLNT_FR_DT','CMPLNT_FR_TM', 'CMPLNT_TO_DT',\n",
        "              'CMPLNT_TO_TM', 'CRM_STTUS', 'LAW_CODE', 'OFNS_DESC', 'PD_DESC', \n",
        "              'PREM_TYP_DESC', 'RPT_DT', 'LATITUDE', 'LONGITUDE', 'FELONY',\n",
        "              'MISDEMEANOR', 'VIOLATION', 'SEX_CRIMES',\n",
        "              'MURDER_NON_NEGLECTFUL_MANSLAUGHTER', 'ROBBERY', 'DANGEROUS_DRUGS', 'DATE_OCCRD3']"
      ],
      "execution_count": 35,
      "outputs": []
    },
    {
      "cell_type": "code",
      "metadata": {
        "colab": {
          "base_uri": "https://localhost:8080/",
          "height": 340
        },
        "id": "r-WzJRl25kSI",
        "outputId": "7f03bccf-41b9-40d5-89b8-d45e089e73b0"
      },
      "source": [
        "dfOffense.head()"
      ],
      "execution_count": 36,
      "outputs": [
        {
          "output_type": "execute_result",
          "data": {
            "text/html": [
              "<div>\n",
              "<style scoped>\n",
              "    .dataframe tbody tr th:only-of-type {\n",
              "        vertical-align: middle;\n",
              "    }\n",
              "\n",
              "    .dataframe tbody tr th {\n",
              "        vertical-align: top;\n",
              "    }\n",
              "\n",
              "    .dataframe thead th {\n",
              "        text-align: right;\n",
              "    }\n",
              "</style>\n",
              "<table border=\"1\" class=\"dataframe\">\n",
              "  <thead>\n",
              "    <tr style=\"text-align: right;\">\n",
              "      <th></th>\n",
              "      <th>CMPLT_NUM</th>\n",
              "      <th>BORO_NM</th>\n",
              "      <th>CMPLNT_FR_DT</th>\n",
              "      <th>CMPLNT_FR_TM</th>\n",
              "      <th>CMPLNT_TO_DT</th>\n",
              "      <th>CMPLNT_TO_TM</th>\n",
              "      <th>CRM_STTUS</th>\n",
              "      <th>LAW_CODE</th>\n",
              "      <th>OFNS_DESC</th>\n",
              "      <th>PD_DESC</th>\n",
              "      <th>PREM_TYP_DESC</th>\n",
              "      <th>RPT_DT</th>\n",
              "      <th>LATITUDE</th>\n",
              "      <th>LONGITUDE</th>\n",
              "      <th>FELONY</th>\n",
              "      <th>MISDEMEANOR</th>\n",
              "      <th>VIOLATION</th>\n",
              "      <th>SEX_CRIMES</th>\n",
              "      <th>MURDER_NON_NEGLECTFUL_MANSLAUGHTER</th>\n",
              "      <th>ROBBERY</th>\n",
              "      <th>DANGEROUS_DRUGS</th>\n",
              "      <th>DATE_OCCRD3</th>\n",
              "    </tr>\n",
              "    <tr>\n",
              "      <th>Date_OCCRD2</th>\n",
              "      <th></th>\n",
              "      <th></th>\n",
              "      <th></th>\n",
              "      <th></th>\n",
              "      <th></th>\n",
              "      <th></th>\n",
              "      <th></th>\n",
              "      <th></th>\n",
              "      <th></th>\n",
              "      <th></th>\n",
              "      <th></th>\n",
              "      <th></th>\n",
              "      <th></th>\n",
              "      <th></th>\n",
              "      <th></th>\n",
              "      <th></th>\n",
              "      <th></th>\n",
              "      <th></th>\n",
              "      <th></th>\n",
              "      <th></th>\n",
              "      <th></th>\n",
              "      <th></th>\n",
              "    </tr>\n",
              "  </thead>\n",
              "  <tbody>\n",
              "    <tr>\n",
              "      <th>18</th>\n",
              "      <td>314773184</td>\n",
              "      <td>BRONX</td>\n",
              "      <td>12/31/2019</td>\n",
              "      <td>18:00:00</td>\n",
              "      <td>NaN</td>\n",
              "      <td>NaN</td>\n",
              "      <td>COMPLETED</td>\n",
              "      <td>FELONY</td>\n",
              "      <td>ROBBERY</td>\n",
              "      <td>ROBBERY,PERSONAL ELECTRONIC DEVICE</td>\n",
              "      <td>STREET</td>\n",
              "      <td>12/31/2019</td>\n",
              "      <td>40.838026</td>\n",
              "      <td>-73.881681</td>\n",
              "      <td>1</td>\n",
              "      <td>0</td>\n",
              "      <td>0</td>\n",
              "      <td>0</td>\n",
              "      <td>0</td>\n",
              "      <td>1</td>\n",
              "      <td>0</td>\n",
              "      <td>2019-12-31 18:00:00</td>\n",
              "    </tr>\n",
              "    <tr>\n",
              "      <th>17</th>\n",
              "      <td>487138011</td>\n",
              "      <td>BRONX</td>\n",
              "      <td>12/29/2019</td>\n",
              "      <td>17:20:00</td>\n",
              "      <td>NaN</td>\n",
              "      <td>NaN</td>\n",
              "      <td>COMPLETED</td>\n",
              "      <td>FELONY</td>\n",
              "      <td>ROBBERY</td>\n",
              "      <td>ROBBERY,PERSONAL ELECTRONIC DEVICE</td>\n",
              "      <td>STREET</td>\n",
              "      <td>12/29/2019</td>\n",
              "      <td>40.830641</td>\n",
              "      <td>-73.874879</td>\n",
              "      <td>1</td>\n",
              "      <td>0</td>\n",
              "      <td>0</td>\n",
              "      <td>0</td>\n",
              "      <td>0</td>\n",
              "      <td>1</td>\n",
              "      <td>0</td>\n",
              "      <td>2019-12-29 17:20:00</td>\n",
              "    </tr>\n",
              "    <tr>\n",
              "      <th>12</th>\n",
              "      <td>227601821</td>\n",
              "      <td>MANHATTAN</td>\n",
              "      <td>12/29/2019</td>\n",
              "      <td>12:30:00</td>\n",
              "      <td>12/29/2019</td>\n",
              "      <td>13:30:00</td>\n",
              "      <td>COMPLETED</td>\n",
              "      <td>MISDEMEANOR</td>\n",
              "      <td>SEX CRIMES</td>\n",
              "      <td>SEXUAL ABUSE 3,2</td>\n",
              "      <td>STREET</td>\n",
              "      <td>12/29/2019</td>\n",
              "      <td>40.764818</td>\n",
              "      <td>-73.985190</td>\n",
              "      <td>0</td>\n",
              "      <td>1</td>\n",
              "      <td>0</td>\n",
              "      <td>1</td>\n",
              "      <td>0</td>\n",
              "      <td>0</td>\n",
              "      <td>0</td>\n",
              "      <td>2019-12-29 12:30:00</td>\n",
              "    </tr>\n",
              "    <tr>\n",
              "      <th>14</th>\n",
              "      <td>260307851</td>\n",
              "      <td>MANHATTAN</td>\n",
              "      <td>12/23/2019</td>\n",
              "      <td>14:41:00</td>\n",
              "      <td>NaN</td>\n",
              "      <td>NaN</td>\n",
              "      <td>COMPLETED</td>\n",
              "      <td>FELONY</td>\n",
              "      <td>ROBBERY</td>\n",
              "      <td>ROBBERY,DELIVERY PERSON</td>\n",
              "      <td>STREET</td>\n",
              "      <td>12/23/2019</td>\n",
              "      <td>40.713476</td>\n",
              "      <td>-73.997303</td>\n",
              "      <td>1</td>\n",
              "      <td>0</td>\n",
              "      <td>0</td>\n",
              "      <td>0</td>\n",
              "      <td>0</td>\n",
              "      <td>1</td>\n",
              "      <td>0</td>\n",
              "      <td>2019-12-23 14:41:00</td>\n",
              "    </tr>\n",
              "    <tr>\n",
              "      <th>0</th>\n",
              "      <td>175176016</td>\n",
              "      <td>BRONX</td>\n",
              "      <td>12/22/2019</td>\n",
              "      <td>00:15:00</td>\n",
              "      <td>NaN</td>\n",
              "      <td>NaN</td>\n",
              "      <td>COMPLETED</td>\n",
              "      <td>FELONY</td>\n",
              "      <td>ROBBERY</td>\n",
              "      <td>ROBBERY,PERSONAL ELECTRONIC DEVICE</td>\n",
              "      <td>STREET</td>\n",
              "      <td>12/22/2019</td>\n",
              "      <td>40.886651</td>\n",
              "      <td>-73.859425</td>\n",
              "      <td>1</td>\n",
              "      <td>0</td>\n",
              "      <td>0</td>\n",
              "      <td>0</td>\n",
              "      <td>0</td>\n",
              "      <td>1</td>\n",
              "      <td>0</td>\n",
              "      <td>2019-12-22 00:15:00</td>\n",
              "    </tr>\n",
              "  </tbody>\n",
              "</table>\n",
              "</div>"
            ],
            "text/plain": [
              "             CMPLT_NUM    BORO_NM  ... DANGEROUS_DRUGS         DATE_OCCRD3\n",
              "Date_OCCRD2                        ...                                    \n",
              "18           314773184      BRONX  ...               0 2019-12-31 18:00:00\n",
              "17           487138011      BRONX  ...               0 2019-12-29 17:20:00\n",
              "12           227601821  MANHATTAN  ...               0 2019-12-29 12:30:00\n",
              "14           260307851  MANHATTAN  ...               0 2019-12-23 14:41:00\n",
              "0            175176016      BRONX  ...               0 2019-12-22 00:15:00\n",
              "\n",
              "[5 rows x 22 columns]"
            ]
          },
          "metadata": {
            "tags": []
          },
          "execution_count": 36
        }
      ]
    },
    {
      "cell_type": "code",
      "metadata": {
        "colab": {
          "base_uri": "https://localhost:8080/"
        },
        "id": "rPfEAtOFNtQB",
        "outputId": "d104bf85-2f6d-4d3b-e6c7-047b83568b69"
      },
      "source": [
        "# Create data frame for sex crimes reported at midnight, which is the most frequent time period for such crimes\n",
        "\n",
        "dfSexCrimes = dfOffense[dfOffense.index.isin([0])]\n",
        "dfSexCrimes = dfSexCrimes[dfSexCrimes.SEX_CRIMES==1]\n",
        "dfSexCrimes.info()"
      ],
      "execution_count": 37,
      "outputs": [
        {
          "output_type": "stream",
          "text": [
            "<class 'pandas.core.frame.DataFrame'>\n",
            "Int64Index: 632 entries, 0 to 0\n",
            "Data columns (total 22 columns):\n",
            " #   Column                              Non-Null Count  Dtype         \n",
            "---  ------                              --------------  -----         \n",
            " 0   CMPLT_NUM                           632 non-null    int64         \n",
            " 1   BORO_NM                             632 non-null    object        \n",
            " 2   CMPLNT_FR_DT                        632 non-null    object        \n",
            " 3   CMPLNT_FR_TM                        632 non-null    object        \n",
            " 4   CMPLNT_TO_DT                        519 non-null    object        \n",
            " 5   CMPLNT_TO_TM                        519 non-null    object        \n",
            " 6   CRM_STTUS                           632 non-null    object        \n",
            " 7   LAW_CODE                            632 non-null    object        \n",
            " 8   OFNS_DESC                           632 non-null    object        \n",
            " 9   PD_DESC                             632 non-null    object        \n",
            " 10  PREM_TYP_DESC                       632 non-null    object        \n",
            " 11  RPT_DT                              632 non-null    object        \n",
            " 12  LATITUDE                            632 non-null    float64       \n",
            " 13  LONGITUDE                           632 non-null    float64       \n",
            " 14  FELONY                              632 non-null    int64         \n",
            " 15  MISDEMEANOR                         632 non-null    int64         \n",
            " 16  VIOLATION                           632 non-null    int64         \n",
            " 17  SEX_CRIMES                          632 non-null    int64         \n",
            " 18  MURDER_NON_NEGLECTFUL_MANSLAUGHTER  632 non-null    int64         \n",
            " 19  ROBBERY                             632 non-null    int64         \n",
            " 20  DANGEROUS_DRUGS                     632 non-null    int64         \n",
            " 21  DATE_OCCRD3                         632 non-null    datetime64[ns]\n",
            "dtypes: datetime64[ns](1), float64(2), int64(8), object(11)\n",
            "memory usage: 113.6+ KB\n"
          ],
          "name": "stdout"
        }
      ]
    },
    {
      "cell_type": "code",
      "metadata": {
        "colab": {
          "base_uri": "https://localhost:8080/"
        },
        "id": "apNCTJseNtN1",
        "outputId": "68bea507-50bc-4523-95d9-616d0aa558b1"
      },
      "source": [
        "# Create data frame for murder and non-neglectful manslaughter crimes reported at night between 9 pm and 1 am. These are the times with the highest frequency for such crimes.\n",
        "\n",
        "dfMurderCrimes = dfOffense[dfOffense.index.isin([21,22,23,0,1])]\n",
        "dfMurderCrimes = dfMurderCrimes[dfMurderCrimes.MURDER_NON_NEGLECTFUL_MANSLAUGHTER==1]\n",
        "dfMurderCrimes.info()"
      ],
      "execution_count": 38,
      "outputs": [
        {
          "output_type": "stream",
          "text": [
            "<class 'pandas.core.frame.DataFrame'>\n",
            "Int64Index: 108 entries, 1 to 22\n",
            "Data columns (total 22 columns):\n",
            " #   Column                              Non-Null Count  Dtype         \n",
            "---  ------                              --------------  -----         \n",
            " 0   CMPLT_NUM                           108 non-null    int64         \n",
            " 1   BORO_NM                             0 non-null      object        \n",
            " 2   CMPLNT_FR_DT                        108 non-null    object        \n",
            " 3   CMPLNT_FR_TM                        108 non-null    object        \n",
            " 4   CMPLNT_TO_DT                        0 non-null      object        \n",
            " 5   CMPLNT_TO_TM                        0 non-null      object        \n",
            " 6   CRM_STTUS                           108 non-null    object        \n",
            " 7   LAW_CODE                            108 non-null    object        \n",
            " 8   OFNS_DESC                           108 non-null    object        \n",
            " 9   PD_DESC                             0 non-null      object        \n",
            " 10  PREM_TYP_DESC                       0 non-null      object        \n",
            " 11  RPT_DT                              108 non-null    object        \n",
            " 12  LATITUDE                            108 non-null    float64       \n",
            " 13  LONGITUDE                           108 non-null    float64       \n",
            " 14  FELONY                              108 non-null    int64         \n",
            " 15  MISDEMEANOR                         108 non-null    int64         \n",
            " 16  VIOLATION                           108 non-null    int64         \n",
            " 17  SEX_CRIMES                          108 non-null    int64         \n",
            " 18  MURDER_NON_NEGLECTFUL_MANSLAUGHTER  108 non-null    int64         \n",
            " 19  ROBBERY                             108 non-null    int64         \n",
            " 20  DANGEROUS_DRUGS                     108 non-null    int64         \n",
            " 21  DATE_OCCRD3                         108 non-null    datetime64[ns]\n",
            "dtypes: datetime64[ns](1), float64(2), int64(8), object(11)\n",
            "memory usage: 19.4+ KB\n"
          ],
          "name": "stdout"
        }
      ]
    },
    {
      "cell_type": "code",
      "metadata": {
        "colab": {
          "base_uri": "https://localhost:8080/"
        },
        "id": "cksbLG9_NtLc",
        "outputId": "e7b8e9d9-2ef8-4962-e936-7cac31e7f4fe"
      },
      "source": [
        "# Create data frame for drug related crimes reported at 6 am. This is an outlier time for drugs to be reported as the surrounding times have very low frequency.\n",
        "\n",
        "dfDrugsCrimes = dfOffense[dfOffense.index.isin([6])]\n",
        "dfDrugsCrimes = dfDrugsCrimes[dfDrugsCrimes.DANGEROUS_DRUGS==1]\n",
        "dfDrugsCrimes.info()"
      ],
      "execution_count": 39,
      "outputs": [
        {
          "output_type": "stream",
          "text": [
            "<class 'pandas.core.frame.DataFrame'>\n",
            "Int64Index: 533 entries, 6 to 6\n",
            "Data columns (total 22 columns):\n",
            " #   Column                              Non-Null Count  Dtype         \n",
            "---  ------                              --------------  -----         \n",
            " 0   CMPLT_NUM                           533 non-null    int64         \n",
            " 1   BORO_NM                             533 non-null    object        \n",
            " 2   CMPLNT_FR_DT                        533 non-null    object        \n",
            " 3   CMPLNT_FR_TM                        533 non-null    object        \n",
            " 4   CMPLNT_TO_DT                        440 non-null    object        \n",
            " 5   CMPLNT_TO_TM                        440 non-null    object        \n",
            " 6   CRM_STTUS                           533 non-null    object        \n",
            " 7   LAW_CODE                            533 non-null    object        \n",
            " 8   OFNS_DESC                           533 non-null    object        \n",
            " 9   PD_DESC                             533 non-null    object        \n",
            " 10  PREM_TYP_DESC                       533 non-null    object        \n",
            " 11  RPT_DT                              533 non-null    object        \n",
            " 12  LATITUDE                            533 non-null    float64       \n",
            " 13  LONGITUDE                           533 non-null    float64       \n",
            " 14  FELONY                              533 non-null    int64         \n",
            " 15  MISDEMEANOR                         533 non-null    int64         \n",
            " 16  VIOLATION                           533 non-null    int64         \n",
            " 17  SEX_CRIMES                          533 non-null    int64         \n",
            " 18  MURDER_NON_NEGLECTFUL_MANSLAUGHTER  533 non-null    int64         \n",
            " 19  ROBBERY                             533 non-null    int64         \n",
            " 20  DANGEROUS_DRUGS                     533 non-null    int64         \n",
            " 21  DATE_OCCRD3                         533 non-null    datetime64[ns]\n",
            "dtypes: datetime64[ns](1), float64(2), int64(8), object(11)\n",
            "memory usage: 95.8+ KB\n"
          ],
          "name": "stdout"
        }
      ]
    },
    {
      "cell_type": "code",
      "metadata": {
        "colab": {
          "base_uri": "https://localhost:8080/"
        },
        "id": "YuwtsJhHNtHC",
        "outputId": "f7deb370-7b87-4cc2-d5aa-886ff65062fe"
      },
      "source": [
        "# Create dataframe for all marijuana related drug crimes\n",
        "\n",
        "dfDrugsMarijuana = dfDrugs[dfDrugs.PD_DESC.str.contains('MARIJUANA')]\n",
        "dfDrugsMarijuana.info()\n"
      ],
      "execution_count": 40,
      "outputs": [
        {
          "output_type": "stream",
          "text": [
            "<class 'pandas.core.frame.DataFrame'>\n",
            "DatetimeIndex: 1838 entries, 2019-12-13 20:00:00 to 2019-01-05 22:15:00\n",
            "Data columns (total 18 columns):\n",
            " #   Column         Non-Null Count  Dtype         \n",
            "---  ------         --------------  -----         \n",
            " 0   CMPLT_NUM      1838 non-null   int64         \n",
            " 1   BORO_NM        1838 non-null   object        \n",
            " 2   CMPLNT_FR_DT   1838 non-null   object        \n",
            " 3   CMPLNT_FR_TM   1838 non-null   object        \n",
            " 4   CMPLNT_TO_DT   1506 non-null   object        \n",
            " 5   CMPLNT_TO_TM   1506 non-null   object        \n",
            " 6   CRM_STTUS      1838 non-null   object        \n",
            " 7   LAW_CODE       1838 non-null   object        \n",
            " 8   OFNS_DESC      1838 non-null   object        \n",
            " 9   PD_DESC        1838 non-null   object        \n",
            " 10  PREM_TYP_DESC  1837 non-null   object        \n",
            " 11  RPT_DT         1838 non-null   object        \n",
            " 12  LATITUDE       1838 non-null   float64       \n",
            " 13  LONGITUDE      1838 non-null   float64       \n",
            " 14  FELONY         1838 non-null   int64         \n",
            " 15  MISDEMEANOR    1838 non-null   int64         \n",
            " 16  VIOLATION      1838 non-null   int64         \n",
            " 17  Date_OCCRD2    1838 non-null   datetime64[ns]\n",
            "dtypes: datetime64[ns](1), float64(2), int64(4), object(11)\n",
            "memory usage: 272.8+ KB\n"
          ],
          "name": "stdout"
        }
      ]
    },
    {
      "cell_type": "code",
      "metadata": {
        "colab": {
          "base_uri": "https://localhost:8080/"
        },
        "id": "i5bVgXk0Xvmw",
        "outputId": "71765df2-4944-442e-b21c-471144db1850"
      },
      "source": [
        "# Create dataframe for all sale related drug crimes\n",
        "\n",
        "dfDrugsSale = dfDrugs[dfDrugs.PD_DESC.str.contains('SALE')]\n",
        "dfDrugsSale.info()\n"
      ],
      "execution_count": 41,
      "outputs": [
        {
          "output_type": "stream",
          "text": [
            "<class 'pandas.core.frame.DataFrame'>\n",
            "DatetimeIndex: 2333 entries, 2019-12-13 20:00:00 to 2019-01-03 14:20:00\n",
            "Data columns (total 18 columns):\n",
            " #   Column         Non-Null Count  Dtype         \n",
            "---  ------         --------------  -----         \n",
            " 0   CMPLT_NUM      2333 non-null   int64         \n",
            " 1   BORO_NM        2333 non-null   object        \n",
            " 2   CMPLNT_FR_DT   2333 non-null   object        \n",
            " 3   CMPLNT_FR_TM   2333 non-null   object        \n",
            " 4   CMPLNT_TO_DT   1923 non-null   object        \n",
            " 5   CMPLNT_TO_TM   1924 non-null   object        \n",
            " 6   CRM_STTUS      2333 non-null   object        \n",
            " 7   LAW_CODE       2333 non-null   object        \n",
            " 8   OFNS_DESC      2333 non-null   object        \n",
            " 9   PD_DESC        2333 non-null   object        \n",
            " 10  PREM_TYP_DESC  2331 non-null   object        \n",
            " 11  RPT_DT         2333 non-null   object        \n",
            " 12  LATITUDE       2333 non-null   float64       \n",
            " 13  LONGITUDE      2333 non-null   float64       \n",
            " 14  FELONY         2333 non-null   int64         \n",
            " 15  MISDEMEANOR    2333 non-null   int64         \n",
            " 16  VIOLATION      2333 non-null   int64         \n",
            " 17  Date_OCCRD2    2333 non-null   datetime64[ns]\n",
            "dtypes: datetime64[ns](1), float64(2), int64(4), object(11)\n",
            "memory usage: 346.3+ KB\n"
          ],
          "name": "stdout"
        }
      ]
    },
    {
      "cell_type": "code",
      "metadata": {
        "id": "1-Tafi8fXvgR"
      },
      "source": [
        "# Extract latitude and longitude data from dataframe and make it into array with tuples.\n",
        "\n",
        "def extract_coords(dfname):\n",
        "  X = np.array((dfname.LATITUDE.array,dfname.LONGITUDE.array)).T\n",
        "  return X\n"
      ],
      "execution_count": 42,
      "outputs": []
    },
    {
      "cell_type": "code",
      "metadata": {
        "id": "P6JVcE2b4NKG"
      },
      "source": [
        "# number of components in GMM model can be decided by using below code\n",
        "# it produces the GMM for various cluster sizes based on components defined and then visualizes the AIC and BIC scores. Lowest scores are relfective of the best model.\n",
        "\n",
        "def model_eval(X,n):\n",
        "  n_components = np.arange(1, n)\n",
        "  models = [mixture.GaussianMixture(n, covariance_type='full', random_state=0).fit(X)\n",
        "            for n in n_components]\n",
        "  \n",
        "  plt.plot(n_components, [m.bic(X) for m in models], label='BIC')\n",
        "  plt.plot(n_components, [m.aic(X) for m in models], label='AIC')\n",
        "  plt.legend(loc='best')\n",
        "  plt.xlabel('Number of Components')\n",
        "  plt.ylabel('AIC/BIC')\n",
        "  return models\n"
      ],
      "execution_count": 119,
      "outputs": []
    },
    {
      "cell_type": "code",
      "metadata": {
        "id": "Lvm7mbOG8Lcj"
      },
      "source": [
        "# Draw an ellipse with a given position and covariance\n",
        "\n",
        "def draw_ellipse(position, covariance, ax=None, **kwargs):\n",
        "    ax = ax or plt.gca()\n",
        "    \n",
        "    # Convert covariance to principal axes\n",
        "    if covariance.shape == (2, 2):\n",
        "        U, s, Vt = np.linalg.svd(covariance)\n",
        "        angle = np.degrees(np.arctan2(U[1, 0], U[0, 0]))\n",
        "        width, height = 2 * np.sqrt(s)\n",
        "    else:\n",
        "        angle = 0\n",
        "        width, height = 2 * np.sqrt(covariance)\n",
        "    \n",
        "    # Draw the Ellipse\n",
        "    for nsig in range(1, 4):\n",
        "        ax.add_patch(Ellipse(position, nsig * width, nsig * height,\n",
        "                             angle, **kwargs))\n",
        "        \n",
        "def plot_gmm(gmm, X, label=True, ax=None):\n",
        "    ax = ax or plt.gca()\n",
        "    labels = gmm.fit(X).predict(X)\n",
        "    if label:\n",
        "        ax.scatter(X[:, 0], X[:, 1], c=labels, s=40, cmap='viridis', zorder=2)\n",
        "    else:\n",
        "        ax.scatter(X[:, 0], X[:, 1], s=40, zorder=2)\n",
        "    ax.axis('equal')\n",
        "    \n",
        "    w_factor = 0.2 / gmm.weights_.max()\n",
        "    for pos, covar, w in zip(gmm.means_, gmm.covariances_, gmm.weights_):\n",
        "        draw_ellipse(pos, covar, alpha=w * w_factor)\n",
        "    plt.xlabel('Latitude')\n",
        "    plt.ylabel('Longitude')\n",
        "    return labels"
      ],
      "execution_count": 123,
      "outputs": []
    },
    {
      "cell_type": "code",
      "metadata": {
        "id": "v1dHITm68Ljx"
      },
      "source": [
        "# Get location data for the selected dataframes\n",
        "\n",
        "X_SexCrimes = extract_coords(dfSexCrimes)\n",
        "X_MurderCrimes = extract_coords(dfMurderCrimes)\n",
        "X_DrugsCrimes = extract_coords(dfDrugsCrimes)\n",
        "X_DrugsMarijuana = extract_coords(dfDrugsMarijuana)\n",
        "X_DrugsSale = extract_coords(dfDrugsSale)"
      ],
      "execution_count": 124,
      "outputs": []
    },
    {
      "cell_type": "code",
      "metadata": {
        "colab": {
          "base_uri": "https://localhost:8080/",
          "height": 1000
        },
        "id": "gvorlUBxQ-f0",
        "outputId": "6faefc97-1bea-4dd6-9d44-6b928e86ac54"
      },
      "source": [
        "# Evaluate models for Sex Crimes\n",
        "\n",
        "models_SexCrimes = model_eval(X_SexCrimes, 100)"
      ],
      "execution_count": 125,
      "outputs": [
        {
          "output_type": "stream",
          "text": [
            "/usr/local/lib/python3.6/dist-packages/sklearn/mixture/_base.py:147: ConvergenceWarning: Number of distinct clusters (76) found smaller than n_clusters (77). Possibly due to duplicate points in X.\n",
            "  random_state=random_state).fit(X).labels_\n",
            "/usr/local/lib/python3.6/dist-packages/sklearn/mixture/_base.py:147: ConvergenceWarning: Number of distinct clusters (76) found smaller than n_clusters (78). Possibly due to duplicate points in X.\n",
            "  random_state=random_state).fit(X).labels_\n",
            "/usr/local/lib/python3.6/dist-packages/sklearn/mixture/_base.py:147: ConvergenceWarning: Number of distinct clusters (76) found smaller than n_clusters (79). Possibly due to duplicate points in X.\n",
            "  random_state=random_state).fit(X).labels_\n",
            "/usr/local/lib/python3.6/dist-packages/sklearn/mixture/_base.py:147: ConvergenceWarning: Number of distinct clusters (76) found smaller than n_clusters (80). Possibly due to duplicate points in X.\n",
            "  random_state=random_state).fit(X).labels_\n",
            "/usr/local/lib/python3.6/dist-packages/sklearn/mixture/_base.py:147: ConvergenceWarning: Number of distinct clusters (76) found smaller than n_clusters (81). Possibly due to duplicate points in X.\n",
            "  random_state=random_state).fit(X).labels_\n",
            "/usr/local/lib/python3.6/dist-packages/sklearn/mixture/_base.py:147: ConvergenceWarning: Number of distinct clusters (76) found smaller than n_clusters (82). Possibly due to duplicate points in X.\n",
            "  random_state=random_state).fit(X).labels_\n",
            "/usr/local/lib/python3.6/dist-packages/sklearn/mixture/_base.py:147: ConvergenceWarning: Number of distinct clusters (76) found smaller than n_clusters (83). Possibly due to duplicate points in X.\n",
            "  random_state=random_state).fit(X).labels_\n",
            "/usr/local/lib/python3.6/dist-packages/sklearn/mixture/_base.py:147: ConvergenceWarning: Number of distinct clusters (76) found smaller than n_clusters (84). Possibly due to duplicate points in X.\n",
            "  random_state=random_state).fit(X).labels_\n",
            "/usr/local/lib/python3.6/dist-packages/sklearn/mixture/_base.py:147: ConvergenceWarning: Number of distinct clusters (76) found smaller than n_clusters (85). Possibly due to duplicate points in X.\n",
            "  random_state=random_state).fit(X).labels_\n",
            "/usr/local/lib/python3.6/dist-packages/sklearn/mixture/_base.py:147: ConvergenceWarning: Number of distinct clusters (76) found smaller than n_clusters (86). Possibly due to duplicate points in X.\n",
            "  random_state=random_state).fit(X).labels_\n",
            "/usr/local/lib/python3.6/dist-packages/sklearn/mixture/_base.py:147: ConvergenceWarning: Number of distinct clusters (76) found smaller than n_clusters (87). Possibly due to duplicate points in X.\n",
            "  random_state=random_state).fit(X).labels_\n",
            "/usr/local/lib/python3.6/dist-packages/sklearn/mixture/_base.py:147: ConvergenceWarning: Number of distinct clusters (76) found smaller than n_clusters (88). Possibly due to duplicate points in X.\n",
            "  random_state=random_state).fit(X).labels_\n",
            "/usr/local/lib/python3.6/dist-packages/sklearn/mixture/_base.py:147: ConvergenceWarning: Number of distinct clusters (76) found smaller than n_clusters (89). Possibly due to duplicate points in X.\n",
            "  random_state=random_state).fit(X).labels_\n",
            "/usr/local/lib/python3.6/dist-packages/sklearn/mixture/_base.py:147: ConvergenceWarning: Number of distinct clusters (76) found smaller than n_clusters (90). Possibly due to duplicate points in X.\n",
            "  random_state=random_state).fit(X).labels_\n",
            "/usr/local/lib/python3.6/dist-packages/sklearn/mixture/_base.py:147: ConvergenceWarning: Number of distinct clusters (76) found smaller than n_clusters (91). Possibly due to duplicate points in X.\n",
            "  random_state=random_state).fit(X).labels_\n",
            "/usr/local/lib/python3.6/dist-packages/sklearn/mixture/_base.py:147: ConvergenceWarning: Number of distinct clusters (76) found smaller than n_clusters (92). Possibly due to duplicate points in X.\n",
            "  random_state=random_state).fit(X).labels_\n",
            "/usr/local/lib/python3.6/dist-packages/sklearn/mixture/_base.py:147: ConvergenceWarning: Number of distinct clusters (76) found smaller than n_clusters (93). Possibly due to duplicate points in X.\n",
            "  random_state=random_state).fit(X).labels_\n",
            "/usr/local/lib/python3.6/dist-packages/sklearn/mixture/_base.py:147: ConvergenceWarning: Number of distinct clusters (76) found smaller than n_clusters (94). Possibly due to duplicate points in X.\n",
            "  random_state=random_state).fit(X).labels_\n",
            "/usr/local/lib/python3.6/dist-packages/sklearn/mixture/_base.py:147: ConvergenceWarning: Number of distinct clusters (76) found smaller than n_clusters (95). Possibly due to duplicate points in X.\n",
            "  random_state=random_state).fit(X).labels_\n",
            "/usr/local/lib/python3.6/dist-packages/sklearn/mixture/_base.py:147: ConvergenceWarning: Number of distinct clusters (76) found smaller than n_clusters (96). Possibly due to duplicate points in X.\n",
            "  random_state=random_state).fit(X).labels_\n",
            "/usr/local/lib/python3.6/dist-packages/sklearn/mixture/_base.py:147: ConvergenceWarning: Number of distinct clusters (76) found smaller than n_clusters (97). Possibly due to duplicate points in X.\n",
            "  random_state=random_state).fit(X).labels_\n",
            "/usr/local/lib/python3.6/dist-packages/sklearn/mixture/_base.py:147: ConvergenceWarning: Number of distinct clusters (76) found smaller than n_clusters (98). Possibly due to duplicate points in X.\n",
            "  random_state=random_state).fit(X).labels_\n",
            "/usr/local/lib/python3.6/dist-packages/sklearn/mixture/_base.py:147: ConvergenceWarning: Number of distinct clusters (76) found smaller than n_clusters (99). Possibly due to duplicate points in X.\n",
            "  random_state=random_state).fit(X).labels_\n"
          ],
          "name": "stderr"
        },
        {
          "output_type": "display_data",
          "data": {
            "image/png": "[encoded data removed]",
            "text/plain": [
              "<Figure size 432x288 with 1 Axes>"
            ]
          },
          "metadata": {
            "tags": [],
            "needs_background": "light"
          }
        }
      ]
    },
    {
      "cell_type": "code",
      "metadata": {
        "colab": {
          "base_uri": "https://localhost:8080/",
          "height": 285
        },
        "id": "8WAhPhF88LHF",
        "outputId": "ecd103df-0de6-4348-ae2f-3bfb4b9fef27"
      },
      "source": [
        "# For Sex Crimes, best n is 76, which corresponds to model index 75\n",
        "\n",
        "labels_SexCrimes = plot_gmm(models_SexCrimes[75],X_SexCrimes)"
      ],
      "execution_count": 128,
      "outputs": [
        {
          "output_type": "display_data",
          "data": {
            "image/png": "[encoded data removed]",
            "text/plain": [
              "<Figure size 432x288 with 1 Axes>"
            ]
          },
          "metadata": {
            "tags": [],
            "needs_background": "light"
          }
        }
      ]
    },
    {
      "cell_type": "code",
      "metadata": {
        "colab": {
          "base_uri": "https://localhost:8080/",
          "height": 285
        },
        "id": "C9J4TpIkl9vZ",
        "outputId": "49591435-d0d5-49d7-ec40-8298816f171d"
      },
      "source": [
        "# Alternative sex crime clusters\n",
        "\n",
        "labels_SexCrimes_alt = plot_gmm(models_SexCrimes[2],X_SexCrimes)"
      ],
      "execution_count": 130,
      "outputs": [
        {
          "output_type": "display_data",
          "data": {
            "image/png": "[encoded data removed]",
            "text/plain": [
              "<Figure size 432x288 with 1 Axes>"
            ]
          },
          "metadata": {
            "tags": [],
            "needs_background": "light"
          }
        }
      ]
    },
    {
      "cell_type": "code",
      "metadata": {
        "colab": {
          "base_uri": "https://localhost:8080/",
          "height": 285
        },
        "id": "2T3zavvgR_ZG",
        "outputId": "f7c6899d-bed2-4ff1-dd55-01675ba1f5b2"
      },
      "source": [
        "# Evaluate models for Murder and Non Neglectful Manslaughter Crimes\n",
        "\n",
        "models_MurderCrimes = model_eval(X_MurderCrimes, 30) "
      ],
      "execution_count": 131,
      "outputs": [
        {
          "output_type": "display_data",
          "data": {
            "image/png": "[encoded data removed]",
            "text/plain": [
              "<Figure size 432x288 with 1 Axes>"
            ]
          },
          "metadata": {
            "tags": [],
            "needs_background": "light"
          }
        }
      ]
    },
    {
      "cell_type": "code",
      "metadata": {
        "colab": {
          "base_uri": "https://localhost:8080/",
          "height": 285
        },
        "id": "XN-G1l3QcIVP",
        "outputId": "80267c24-671c-453e-9bda-8cd44cd4f8f3"
      },
      "source": [
        "# AIC: For Murder and Non Neglectful Manslaughter Crimes, best n is 21, which corresponds to model index 20\n",
        "\n",
        "labels_MurderCrimesAIC = plot_gmm(models_MurderCrimes[20],X_MurderCrimes) "
      ],
      "execution_count": 132,
      "outputs": [
        {
          "output_type": "display_data",
          "data": {
            "image/png": "[encoded data removed]",
            "text/plain": [
              "<Figure size 432x288 with 1 Axes>"
            ]
          },
          "metadata": {
            "tags": [],
            "needs_background": "light"
          }
        }
      ]
    },
    {
      "cell_type": "code",
      "metadata": {
        "colab": {
          "base_uri": "https://localhost:8080/",
          "height": 285
        },
        "id": "pnOhAjTAmiCb",
        "outputId": "0573eeee-ec87-447e-bf37-1daf403f0532"
      },
      "source": [
        "# BIC: For Murder and Non Neglectful Manslaughter Crimes, best n is 4, which corresponds to model index 3\n",
        "\n",
        "labels_MurderCrimesBIC = plot_gmm(models_MurderCrimes[3],X_MurderCrimes) "
      ],
      "execution_count": 136,
      "outputs": [
        {
          "output_type": "display_data",
          "data": {
            "image/png": "[encoded data removed]",
            "text/plain": [
              "<Figure size 432x288 with 1 Axes>"
            ]
          },
          "metadata": {
            "tags": [],
            "needs_background": "light"
          }
        }
      ]
    },
    {
      "cell_type": "code",
      "metadata": {
        "colab": {
          "base_uri": "https://localhost:8080/",
          "height": 285
        },
        "id": "DL0Z-a2DR_Ad",
        "outputId": "8d459558-3966-4f0c-d018-5b3e4b2093e3"
      },
      "source": [
        "# Evaluate models for Drug related Crimes\n",
        "\n",
        "models_DrugsCrimes = model_eval(X_DrugsCrimes, 100)"
      ],
      "execution_count": 137,
      "outputs": [
        {
          "output_type": "display_data",
          "data": {
            "image/png": "[encoded data removed]",
            "text/plain": [
              "<Figure size 432x288 with 1 Axes>"
            ]
          },
          "metadata": {
            "tags": [],
            "needs_background": "light"
          }
        }
      ]
    },
    {
      "cell_type": "code",
      "metadata": {
        "colab": {
          "base_uri": "https://localhost:8080/",
          "height": 268
        },
        "id": "pzLJabkhcJQP",
        "outputId": "4c3ed0b9-b9ab-4f3f-9f82-45f3f1a2cb5f"
      },
      "source": [
        "# AIC and BIC For Drugs related Crimes, best n is 4, which corresponds to model index 3. This is because of the steepest fall in AIC being observed for smaller n, even though AIC keeps decreasing later.\n",
        "\n",
        "labels_DrugsCrimes = plot_gmm(models_DrugsCrimes[3],X_DrugsCrimes) #3"
      ],
      "execution_count": 95,
      "outputs": [
        {
          "output_type": "display_data",
          "data": {
            "image/png": "[encoded data removed]",
            "text/plain": [
              "<Figure size 432x288 with 1 Axes>"
            ]
          },
          "metadata": {
            "tags": [],
            "needs_background": "light"
          }
        }
      ]
    },
    {
      "cell_type": "code",
      "metadata": {
        "id": "oeJyznvtnDZO"
      },
      "source": [
        "# BIC For Drugs related Crimes, best n is 4, which corresponds to model index 3\n",
        "\n",
        "# labels_DrugsCrimes = plot_gmm(models_DrugsCrimes[3],X_DrugsCrimes) #3"
      ],
      "execution_count": 139,
      "outputs": []
    },
    {
      "cell_type": "code",
      "metadata": {
        "colab": {
          "base_uri": "https://localhost:8080/",
          "height": 285
        },
        "id": "U1OYDDQVR-0O",
        "outputId": "067ee826-b2bf-4a32-a156-aacf4b7936e6"
      },
      "source": [
        "# Evaluate models for Marijuana related Crimes\n",
        "\n",
        "models_DrugsMarijuana = model_eval(X_DrugsMarijuana, 100)"
      ],
      "execution_count": 140,
      "outputs": [
        {
          "output_type": "display_data",
          "data": {
            "image/png": "[encoded data removed]",
            "text/plain": [
              "<Figure size 432x288 with 1 Axes>"
            ]
          },
          "metadata": {
            "tags": [],
            "needs_background": "light"
          }
        }
      ]
    },
    {
      "cell_type": "code",
      "metadata": {
        "colab": {
          "base_uri": "https://localhost:8080/",
          "height": 285
        },
        "id": "ycYfS0GPcJ24",
        "outputId": "e47639e9-2fb7-4bfc-db63-78b879bceee6"
      },
      "source": [
        "# For Marijuana related Crimes, best n is 24, which corresponds to model index 23\n",
        "\n",
        "labels_DrugsMarijuana = plot_gmm(models_DrugsMarijuana[23],X_DrugsMarijuana)"
      ],
      "execution_count": 143,
      "outputs": [
        {
          "output_type": "display_data",
          "data": {
            "image/png": "[encoded data removed]",
            "text/plain": [
              "<Figure size 432x288 with 1 Axes>"
            ]
          },
          "metadata": {
            "tags": [],
            "needs_background": "light"
          }
        }
      ]
    },
    {
      "cell_type": "code",
      "metadata": {
        "colab": {
          "base_uri": "https://localhost:8080/",
          "height": 285
        },
        "id": "3e8OPUTnoHlz",
        "outputId": "1c04906b-8ea6-40eb-fa59-775afa8c11c8"
      },
      "source": [
        "# Lower n alternative: For Marijuana related Crimes, alternative best n is 4, which corresponds to model index 3. This marks the steepest fall in AIC/BIC both \n",
        "\n",
        "labels_DrugsMarijuana_Alt = plot_gmm(models_DrugsMarijuana[3],X_DrugsMarijuana)"
      ],
      "execution_count": 151,
      "outputs": [
        {
          "output_type": "display_data",
          "data": {
            "image/png": "[encoded data removed]",
            "text/plain": [
              "<Figure size 432x288 with 1 Axes>"
            ]
          },
          "metadata": {
            "tags": [],
            "needs_background": "light"
          }
        }
      ]
    },
    {
      "cell_type": "code",
      "metadata": {
        "colab": {
          "base_uri": "https://localhost:8080/",
          "height": 285
        },
        "id": "JVMeT3zdR-p1",
        "outputId": "b8e1cc58-a5c7-485e-c96f-144bc97c996f"
      },
      "source": [
        "# Evaluate models for Drug Sale related Crimes\n",
        "\n",
        "models_DrugsSale = model_eval(X_DrugsSale, 100)"
      ],
      "execution_count": 152,
      "outputs": [
        {
          "output_type": "display_data",
          "data": {
            "image/png": "[encoded data removed]",
            "text/plain": [
              "<Figure size 432x288 with 1 Axes>"
            ]
          },
          "metadata": {
            "tags": [],
            "needs_background": "light"
          }
        }
      ]
    },
    {
      "cell_type": "code",
      "metadata": {
        "colab": {
          "base_uri": "https://localhost:8080/",
          "height": 285
        },
        "id": "5cU8hk4x8LUt",
        "outputId": "deac8e22-ea6c-4075-aabd-2189e850f366"
      },
      "source": [
        "# For Marijuana related Crimes, best n is 35, which corresponds to model index 34\n",
        "\n",
        "labels_DrugsSale = plot_gmm(models_DrugsSale[34],X_DrugsSale)"
      ],
      "execution_count": 155,
      "outputs": [
        {
          "output_type": "display_data",
          "data": {
            "image/png": "[encoded data removed]",
            "text/plain": [
              "<Figure size 432x288 with 1 Axes>"
            ]
          },
          "metadata": {
            "tags": [],
            "needs_background": "light"
          }
        }
      ]
    },
    {
      "cell_type": "code",
      "metadata": {
        "colab": {
          "base_uri": "https://localhost:8080/",
          "height": 285
        },
        "id": "yl-g_Iy7o1T9",
        "outputId": "780caf66-97f4-4242-bc05-3283273f4d03"
      },
      "source": [
        "# Alternative for low clusters. For Marijuana related Crimes, alternative best n is 6, which corresponds to model index 5\n",
        "\n",
        "labels_DrugsSale_Alt = plot_gmm(models_DrugsSale[5],X_DrugsSale)"
      ],
      "execution_count": 156,
      "outputs": [
        {
          "output_type": "display_data",
          "data": {
            "image/png": "[encoded data removed]",
            "text/plain": [
              "<Figure size 432x288 with 1 Axes>"
            ]
          },
          "metadata": {
            "tags": [],
            "needs_background": "light"
          }
        }
      ]
    },
    {
      "cell_type": "code",
      "metadata": {
        "id": "ZhJQ_f7BpTS2"
      },
      "source": [
        "# Export sex crime predictions for high n\n",
        "\n",
        "dfSexCrimes_GMMPred1 = pd.DataFrame()\n",
        "dfSexCrimes_GMMPred1['LATITUDE']=pd.Series(X_SexCrimes[:,0])\n",
        "dfSexCrimes_GMMPred1['LONGITUDE']=pd.Series(X_SexCrimes[:,1])\n",
        "dfSexCrimes_GMMPred1['CLUSTER_PREDICTION']=pd.Series(labels_SexCrimes)\n",
        "\n",
        "dfSexCrimes_GMMPred1.to_csv(\"/content/gdrive/My Drive/AIT 690 Project/Data/dfSexCrimes_GMMPred1.csv\")"
      ],
      "execution_count": 160,
      "outputs": []
    },
    {
      "cell_type": "code",
      "metadata": {
        "id": "22OL9iCKpTLF"
      },
      "source": [
        "# Export sex crime predictions for low n (alt)\n",
        "\n",
        "dfSexCrimes_GMMPred2 = pd.DataFrame()\n",
        "dfSexCrimes_GMMPred2['LATITUDE']=pd.Series(X_SexCrimes[:,0])\n",
        "dfSexCrimes_GMMPred2['LONGITUDE']=pd.Series(X_SexCrimes[:,1])\n",
        "dfSexCrimes_GMMPred2['CLUSTER_PREDICTION']=pd.Series(labels_SexCrimes_alt)\n",
        "\n",
        "dfSexCrimes_GMMPred2.to_csv(\"/content/gdrive/My Drive/AIT 690 Project/Data/dfSexCrimes_GMMPred2.csv\")"
      ],
      "execution_count": 164,
      "outputs": []
    },
    {
      "cell_type": "code",
      "metadata": {
        "id": "RoxilEsEpTHE"
      },
      "source": [
        "# Export murder crime predictions for AIC\n",
        "\n",
        "dfMurderCrimes_GMMPredAIC = pd.DataFrame()\n",
        "dfMurderCrimes_GMMPredAIC['LATITUDE']=pd.Series(X_MurderCrimes[:,0])\n",
        "dfMurderCrimes_GMMPredAIC['LONGITUDE']=pd.Series(X_MurderCrimes[:,1])\n",
        "dfMurderCrimes_GMMPredAIC['CLUSTER_PREDICTION']=pd.Series(labels_MurderCrimesAIC)\n",
        "\n",
        "dfMurderCrimes_GMMPredAIC.to_csv(\"/content/gdrive/My Drive/AIT 690 Project/Data/dfMurderCrimes_GMMPredAIC.csv\")"
      ],
      "execution_count": 165,
      "outputs": []
    },
    {
      "cell_type": "code",
      "metadata": {
        "id": "gNtwX9RlxHjN"
      },
      "source": [
        "# Export murder crime predictions for BIC\n",
        "\n",
        "dfMurderCrimes_GMMPredBIC = pd.DataFrame()\n",
        "dfMurderCrimes_GMMPredBIC['LATITUDE']=pd.Series(X_MurderCrimes[:,0])\n",
        "dfMurderCrimes_GMMPredBIC['LONGITUDE']=pd.Series(X_MurderCrimes[:,1])\n",
        "dfMurderCrimes_GMMPredBIC['CLUSTER_PREDICTION']=pd.Series(labels_MurderCrimesBIC)\n",
        "\n",
        "dfMurderCrimes_GMMPredBIC.to_csv(\"/content/gdrive/My Drive/AIT 690 Project/Data/dfMurderCrimes_GMMPredBIC.csv\")"
      ],
      "execution_count": 166,
      "outputs": []
    },
    {
      "cell_type": "code",
      "metadata": {
        "id": "HIw8R0O1xHZi"
      },
      "source": [
        "# Export drugs crime predictions\n",
        "\n",
        "dfDrugsCrimes_GMMPred = pd.DataFrame()\n",
        "dfDrugsCrimes_GMMPred['LATITUDE']=pd.Series(X_DrugsCrimes[:,0])\n",
        "dfDrugsCrimes_GMMPred['LONGITUDE']=pd.Series(X_DrugsCrimes[:,1])\n",
        "dfDrugsCrimes_GMMPred['CLUSTER_PREDICTION']=pd.Series(labels_DrugsCrimes)\n",
        "\n",
        "dfDrugsCrimes_GMMPred.to_csv(\"/content/gdrive/My Drive/AIT 690 Project/Data/dfDrugsCrimes_GMMPred.csv\")"
      ],
      "execution_count": 167,
      "outputs": []
    },
    {
      "cell_type": "code",
      "metadata": {
        "id": "VMAMeX4vxHRC"
      },
      "source": [
        "# Export marijuana drug crime predictions for high n\n",
        "\n",
        "dfMarijuanaCrimes_GMMPred1 = pd.DataFrame()\n",
        "dfMarijuanaCrimes_GMMPred1['LATITUDE']=pd.Series(X_DrugsMarijuana[:,0])\n",
        "dfMarijuanaCrimes_GMMPred1['LONGITUDE']=pd.Series(X_DrugsMarijuana[:,1])\n",
        "dfMarijuanaCrimes_GMMPred1['CLUSTER_PREDICTION']=pd.Series(labels_DrugsMarijuana)\n",
        "\n",
        "dfMarijuanaCrimes_GMMPred1.to_csv(\"/content/gdrive/My Drive/AIT 690 Project/Data/dfMarijuanaCrimes_GMMPred1.csv\")"
      ],
      "execution_count": 168,
      "outputs": []
    },
    {
      "cell_type": "code",
      "metadata": {
        "id": "oaniu89MxHH0"
      },
      "source": [
        "# Export marijuana drug crime predictions for low n (alt)\n",
        "\n",
        "dfMarijuanaCrimes_GMMPred2 = pd.DataFrame()\n",
        "dfMarijuanaCrimes_GMMPred2['LATITUDE']=pd.Series(X_DrugsMarijuana[:,0])\n",
        "dfMarijuanaCrimes_GMMPred2['LONGITUDE']=pd.Series(X_DrugsMarijuana[:,1])\n",
        "dfMarijuanaCrimes_GMMPred2['CLUSTER_PREDICTION']=pd.Series(labels_DrugsMarijuana_Alt)\n",
        "\n",
        "dfMarijuanaCrimes_GMMPred2.to_csv(\"/content/gdrive/My Drive/AIT 690 Project/Data/dfMarijuanaCrimes_GMMPred2.csv\")"
      ],
      "execution_count": 169,
      "outputs": []
    },
    {
      "cell_type": "code",
      "metadata": {
        "id": "W1gvTLyzxG-_"
      },
      "source": [
        "# Export drug sale crime predictions for high n\n",
        "\n",
        "dfDrugSaleCrimes_GMMPred1 = pd.DataFrame()\n",
        "dfDrugSaleCrimes_GMMPred1['LATITUDE']=pd.Series(X_DrugsSale[:,0])\n",
        "dfDrugSaleCrimes_GMMPred1['LONGITUDE']=pd.Series(X_DrugsSale[:,1])\n",
        "dfDrugSaleCrimes_GMMPred1['CLUSTER_PREDICTION']=pd.Series(labels_DrugsSale)\n",
        "\n",
        "dfDrugSaleCrimes_GMMPred1.to_csv(\"/content/gdrive/My Drive/AIT 690 Project/Data/dfDrugSaleCrimes_GMMPred1.csv\")"
      ],
      "execution_count": 170,
      "outputs": []
    },
    {
      "cell_type": "code",
      "metadata": {
        "id": "xrKnhfNZpS5J"
      },
      "source": [
        "# Export drug sale crime predictions for low n (alt)\n",
        "\n",
        "dfDrugSaleCrimes_GMMPred2 = pd.DataFrame()\n",
        "dfDrugSaleCrimes_GMMPred2['LATITUDE']=pd.Series(X_DrugsSale[:,0])\n",
        "dfDrugSaleCrimes_GMMPred2['LONGITUDE']=pd.Series(X_DrugsSale[:,1])\n",
        "dfDrugSaleCrimes_GMMPred2['CLUSTER_PREDICTION']=pd.Series(labels_DrugsSale_Alt)\n",
        "\n",
        "dfDrugSaleCrimes_GMMPred2.to_csv(\"/content/gdrive/My Drive/AIT 690 Project/Data/dfDrugSaleCrimes_GMMPred2.csv\")"
      ],
      "execution_count": 171,
      "outputs": []
    }
  ]
}